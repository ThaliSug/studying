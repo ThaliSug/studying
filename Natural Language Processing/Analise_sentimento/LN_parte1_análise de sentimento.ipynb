{
 "cells": [
  {
   "cell_type": "markdown",
   "id": "226a339b",
   "metadata": {},
   "source": [
    "## Vamos criar um analisador de sentimentos.\n",
    "\n",
    " Um modelo de ML capaz de analisar um determinado texto e classificá-lo de acordo com o sentimento, ouseja, se a pessoa gostou ou não. Para o projeto utilizaremos um dataset do [kaggle](https://www.kaggle.com/datasets/luisfredgs/imdb-ptbr?resource=download)\n",
    " O dataset tem vários comentários de usuários do site IMDB, para avaliação de filme. Os sentimentos dados são ou negativo ou positivo. (Ou seja, o modelo será de classificação e supervisionado)\n",
    " "
   ]
  },
  {
   "cell_type": "markdown",
   "id": "6166cba8",
   "metadata": {},
   "source": [
    "# O que é PLN ou NLP:\n",
    "Em português Processamente de linguagem natural, ou em inglês Natural Language Processing é uma vertente da inteligência artificial (IA) tem como intenção de melhorar a comunicação entre humanos e computadores. Funciona como um 'tradutor'.\n",
    "\n",
    "Pela linguagem natural não ser uma fonte estruturada como, por exemplo, tabelas e planilhas e possuir coisas como ironia e sarcasmo há grandes desafios para criação de modelo generalizado o suficiente que seja aplicado de forma satisfatória para todas as linguas. \n",
    "\n",
    "Principais uso de NLP:\n",
    "- tradutores online;\n",
    "- analise de sentimento;\n",
    "- corretores ortográficos;\n",
    "- chatbots;\n",
    "- barra de pesquisa;\n",
    "entre outros.\n",
    "\n",
    "#### Etapas:\n",
    "- Coletar dados;\n",
    "- limpar;\n",
    "- estruturar;\n",
    "- analisar;\n",
    "- treinar e testar modelos que satisfaçam o problema."
   ]
  },
  {
   "cell_type": "markdown",
   "id": "7a573cdc",
   "metadata": {},
   "source": [
    "### Importando as bibliotecas:"
   ]
  },
  {
   "cell_type": "code",
   "execution_count": 1,
   "id": "d1a887eb",
   "metadata": {},
   "outputs": [],
   "source": [
    "import pandas as pd\n",
    "from sklearn.model_selection import train_test_split\n",
    "from sklearn.linear_model import LogisticRegression"
   ]
  },
  {
   "cell_type": "code",
   "execution_count": 11,
   "id": "d12455c7",
   "metadata": {},
   "outputs": [],
   "source": [
    "from sklearn.linear_model import LogisticRegression"
   ]
  },
  {
   "cell_type": "code",
   "execution_count": 2,
   "id": "f3ec6ce3",
   "metadata": {},
   "outputs": [
    {
     "data": {
      "text/html": [
       "<div>\n",
       "<style scoped>\n",
       "    .dataframe tbody tr th:only-of-type {\n",
       "        vertical-align: middle;\n",
       "    }\n",
       "\n",
       "    .dataframe tbody tr th {\n",
       "        vertical-align: top;\n",
       "    }\n",
       "\n",
       "    .dataframe thead th {\n",
       "        text-align: right;\n",
       "    }\n",
       "</style>\n",
       "<table border=\"1\" class=\"dataframe\">\n",
       "  <thead>\n",
       "    <tr style=\"text-align: right;\">\n",
       "      <th></th>\n",
       "      <th>id</th>\n",
       "      <th>text_en</th>\n",
       "      <th>text_pt</th>\n",
       "      <th>sentiment</th>\n",
       "    </tr>\n",
       "  </thead>\n",
       "  <tbody>\n",
       "    <tr>\n",
       "      <th>0</th>\n",
       "      <td>1</td>\n",
       "      <td>Once again Mr. Costner has dragged out a movie...</td>\n",
       "      <td>Mais uma vez, o Sr. Costner arrumou um filme p...</td>\n",
       "      <td>neg</td>\n",
       "    </tr>\n",
       "    <tr>\n",
       "      <th>1</th>\n",
       "      <td>2</td>\n",
       "      <td>This is an example of why the majority of acti...</td>\n",
       "      <td>Este é um exemplo do motivo pelo qual a maiori...</td>\n",
       "      <td>neg</td>\n",
       "    </tr>\n",
       "    <tr>\n",
       "      <th>2</th>\n",
       "      <td>3</td>\n",
       "      <td>First of all I hate those moronic rappers, who...</td>\n",
       "      <td>Primeiro de tudo eu odeio esses raps imbecis, ...</td>\n",
       "      <td>neg</td>\n",
       "    </tr>\n",
       "    <tr>\n",
       "      <th>3</th>\n",
       "      <td>4</td>\n",
       "      <td>Not even the Beatles could write songs everyon...</td>\n",
       "      <td>Nem mesmo os Beatles puderam escrever músicas ...</td>\n",
       "      <td>neg</td>\n",
       "    </tr>\n",
       "    <tr>\n",
       "      <th>4</th>\n",
       "      <td>5</td>\n",
       "      <td>Brass pictures movies is not a fitting word fo...</td>\n",
       "      <td>Filmes de fotos de latão não é uma palavra apr...</td>\n",
       "      <td>neg</td>\n",
       "    </tr>\n",
       "  </tbody>\n",
       "</table>\n",
       "</div>"
      ],
      "text/plain": [
       "   id                                            text_en  \\\n",
       "0   1  Once again Mr. Costner has dragged out a movie...   \n",
       "1   2  This is an example of why the majority of acti...   \n",
       "2   3  First of all I hate those moronic rappers, who...   \n",
       "3   4  Not even the Beatles could write songs everyon...   \n",
       "4   5  Brass pictures movies is not a fitting word fo...   \n",
       "\n",
       "                                             text_pt sentiment  \n",
       "0  Mais uma vez, o Sr. Costner arrumou um filme p...       neg  \n",
       "1  Este é um exemplo do motivo pelo qual a maiori...       neg  \n",
       "2  Primeiro de tudo eu odeio esses raps imbecis, ...       neg  \n",
       "3  Nem mesmo os Beatles puderam escrever músicas ...       neg  \n",
       "4  Filmes de fotos de latão não é uma palavra apr...       neg  "
      ]
     },
     "execution_count": 2,
     "metadata": {},
     "output_type": "execute_result"
    }
   ],
   "source": [
    "resenha = pd.read_csv('dados/imdb-reviews-pt-br.csv')\n",
    "resenha.head()"
   ]
  },
  {
   "cell_type": "code",
   "execution_count": 6,
   "id": "4d4126b4",
   "metadata": {},
   "outputs": [
    {
     "name": "stdout",
     "output_type": "stream",
     "text": [
      "<class 'pandas.core.frame.DataFrame'>\n",
      "RangeIndex: 49459 entries, 0 to 49458\n",
      "Data columns (total 4 columns):\n",
      " #   Column     Non-Null Count  Dtype \n",
      "---  ------     --------------  ----- \n",
      " 0   id         49459 non-null  int64 \n",
      " 1   text_en    49459 non-null  object\n",
      " 2   text_pt    49459 non-null  object\n",
      " 3   sentiment  49459 non-null  object\n",
      "dtypes: int64(1), object(3)\n",
      "memory usage: 1.5+ MB\n"
     ]
    }
   ],
   "source": [
    "resenha.info()"
   ]
  },
  {
   "cell_type": "code",
   "execution_count": 8,
   "id": "4b71d83c",
   "metadata": {},
   "outputs": [],
   "source": [
    "treino, teste, classe_treino, classe_teste = train_test_split(resenha.text_pt,\n",
    "                                                             resenha.sentiment,\n",
    "                                                             random_state = 42)"
   ]
  },
  {
   "cell_type": "code",
   "execution_count": 10,
   "id": "82c9cd6c",
   "metadata": {},
   "outputs": [
    {
     "data": {
      "text/plain": [
       "((37094,), (12365,), (37094,), (12365,))"
      ]
     },
     "execution_count": 10,
     "metadata": {},
     "output_type": "execute_result"
    }
   ],
   "source": [
    "treino.shape, teste.shape, classe_treino.shape, classe_teste.shape"
   ]
  },
  {
   "cell_type": "markdown",
   "id": "903089f9",
   "metadata": {},
   "source": [
    "#### Dando uma olhada:"
   ]
  },
  {
   "cell_type": "code",
   "execution_count": 14,
   "id": "c26c2dda",
   "metadata": {},
   "outputs": [
    {
     "data": {
      "text/plain": [
       "1348     Embora o filme tenha sido apenas assim, o clos...\n",
       "27466    Este é provavelmente um dos piores filmes que ...\n",
       "29998    De vez em quando, um filme irá varrer ao seu r...\n",
       "48186    Este é um conto completamente diabólico de quã...\n",
       "26473    Lenta, chata, extremamente repetitiva. Não adm...\n",
       "Name: text_pt, dtype: object"
      ]
     },
     "execution_count": 14,
     "metadata": {},
     "output_type": "execute_result"
    }
   ],
   "source": [
    "treino.head()"
   ]
  },
  {
   "cell_type": "code",
   "execution_count": 15,
   "id": "2ab4b54d",
   "metadata": {},
   "outputs": [
    {
     "data": {
      "text/plain": [
       "1348     neg\n",
       "27466    neg\n",
       "29998    neg\n",
       "48186    pos\n",
       "26473    neg\n",
       "Name: sentiment, dtype: object"
      ]
     },
     "execution_count": 15,
     "metadata": {},
     "output_type": "execute_result"
    }
   ],
   "source": [
    "classe_treino.head()"
   ]
  },
  {
   "cell_type": "code",
   "execution_count": 16,
   "id": "d51e703f",
   "metadata": {},
   "outputs": [
    {
     "data": {
      "text/plain": [
       "12532    Isso era incomum: um filme moderno que era ult...\n",
       "35445    Alguns dos meus velhos amigos sugeriram que eu...\n",
       "20279    Que prazer. Isto é realmente uma paródia. Some...\n",
       "2969     Há cerca de dez minutos a meio da Strangeland,...\n",
       "45161    Otelo, a clássica história de Shakespearen sob...\n",
       "Name: text_pt, dtype: object"
      ]
     },
     "execution_count": 16,
     "metadata": {},
     "output_type": "execute_result"
    }
   ],
   "source": [
    "teste.head()"
   ]
  },
  {
   "cell_type": "code",
   "execution_count": 17,
   "id": "de54dc7d",
   "metadata": {},
   "outputs": [
    {
     "data": {
      "text/plain": [
       "12532    pos\n",
       "35445    neg\n",
       "20279    pos\n",
       "2969     neg\n",
       "45161    pos\n",
       "Name: sentiment, dtype: object"
      ]
     },
     "execution_count": 17,
     "metadata": {},
     "output_type": "execute_result"
    }
   ],
   "source": [
    "classe_teste.head()"
   ]
  },
  {
   "cell_type": "markdown",
   "id": "d02f4fae",
   "metadata": {},
   "source": [
    "### Fazendo a classificação com o Sklearn"
   ]
  },
  {
   "cell_type": "code",
   "execution_count": 20,
   "id": "069a1718",
   "metadata": {},
   "outputs": [],
   "source": [
    "# regressao_logistica = LogisticRegression()\n",
    "# regressao_logistica.fit(treino, classe_treino)\n",
    "# acuracia = regressao_logistica.score(teste,classe_teste)\n",
    "# print(acuracia)\n",
    "\n",
    "# Dá erro pois o modelo não interpreta dados textuais (ValueError: could not convert string to float:)"
   ]
  },
  {
   "cell_type": "markdown",
   "id": "27a228d1",
   "metadata": {},
   "source": [
    "#### Dando uma olhada em um exemplo de mensagem com sentimento negativo e positivo:"
   ]
  },
  {
   "cell_type": "code",
   "execution_count": 21,
   "id": "03971af7",
   "metadata": {},
   "outputs": [
    {
     "name": "stdout",
     "output_type": "stream",
     "text": [
      "Negativa \n",
      "\n",
      "Este é sem dúvida o pior filme que eu já vi. E acredite em mim, eu vi muitos filmes. A reviravolta inacreditável que o filme faz - passando de um extremamente mau filme \"Formas de vida alienígenas habitam a terra\", com um filme que tenta espalhar um arquicristiano \"O dia do julgamento está próximo, buscar Jesus ou queimar por toda a eternidade em as dívidas ardentes do inferno \"mensagem - deixou-me atordoado depois de ter sido atormentado por 85 minutos. Até mesmo os cristãos religiosos devem se envergonhar ou ficar furiosos ao ver suas crenças postadas dessa maneira. Eu não sabia o que fazer comigo quando assisti a atuação horrível que poderia ter sido realizada por crianças de 7 anos de idade. Simplesmente repugnante. Eu não sou cristão nem muito religioso. Mas se eu estivesse, não teria mais medo do Inferno. Rich Christiano mostrou ser algo muito pior.\n"
     ]
    }
   ],
   "source": [
    "print(\"Negativa \\n\")\n",
    "print(resenha.text_pt[189])  #vimos que os negativos estavam no começo"
   ]
  },
  {
   "cell_type": "code",
   "execution_count": 22,
   "id": "bcb0e5f7",
   "metadata": {},
   "outputs": [
    {
     "name": "stdout",
     "output_type": "stream",
     "text": [
      "Positiva \n",
      "\n",
      "Crescendo em Nova York no final dos anos 80 e início dos anos 90, posso dizer pessoalmente que este é um dos documentários mais importantes feitos para cobrir esse lugar neste período de tempo. Não Madonna não veio com a idéia de Voguing, mas é de onde ela tirou! Em vez de combater a violência uns dos outros ou em brigas de gato, o voguing permitia que as pessoas \"lutassem\" dentro dos confins de tudo, menos que tocassem umas às outras, o que justificaria uma desqualificação automática. Vendo este tipo de extraordinariamente talentosas / bem orquestradas \"jogadas\" nos clubes foi nada menos do que espetacular e todos os grandes nomes de antigamente estão aqui ... Pepper La Beija, Paris Duprée, Xtragavaganza, etc. ..tudo comemorado nos gostos de peças de época como a música de Malcom McLarens \"Deep in Vogue\" ... não importava quem você era, ou de onde você era porque quando você passava por aquelas portas nesse \"reino mágico\" de De certa forma, você se tornou parte de algo maior que você / você era importante / e, o mais importante, a criação de seus próprios movimentos e imaginação ... e qualquer pessoa de qualquer lugar poderia se tornar Rei ou Rainha como poderia ter sido. As palavras e inteligência eram tão afiadas quanto os movimentos no chão. Toda a tensão, excitação e magia dessa energia urbana de NYC é capturada neste filme. BRILHANTE!!! POR FAVOR, LIBERE EM DVD para o mundo ver !!! Obrigado!\n"
     ]
    }
   ],
   "source": [
    "print(\"Positiva \\n\")\n",
    "print(resenha.text_pt[49002])"
   ]
  },
  {
   "cell_type": "markdown",
   "id": "691428f8",
   "metadata": {},
   "source": [
    "Conhecendo um pouco dos textos dá pra prestar atenção em palavras que poderiam ser indicativos de sentimentos e comuns nos textos usados. \n",
    "Como exemplo no do primeiro a palavra pior  e na segunda a palavra brilhante."
   ]
  },
  {
   "cell_type": "code",
   "execution_count": 23,
   "id": "28aeea99",
   "metadata": {},
   "outputs": [
    {
     "name": "stdout",
     "output_type": "stream",
     "text": [
      "neg    24765\n",
      "pos    24694\n",
      "Name: sentiment, dtype: int64\n"
     ]
    }
   ],
   "source": [
    "print(resenha.sentiment.value_counts())"
   ]
  },
  {
   "cell_type": "markdown",
   "id": "917e9375",
   "metadata": {},
   "source": [
    "Os valores estão bem balanceados então não terá problema de viés para a classificação."
   ]
  },
  {
   "cell_type": "markdown",
   "id": "29ea97d2",
   "metadata": {},
   "source": [
    "### Alterando os valores da coluna sentiment por valores binários:\n",
    "\n",
    "- neg = 0\n",
    "- pos = 1\n"
   ]
  },
  {
   "cell_type": "code",
   "execution_count": 24,
   "id": "24e747ae",
   "metadata": {},
   "outputs": [],
   "source": [
    "classificacao = resenha['sentiment'].replace(['neg','pos'],[0,1])"
   ]
  },
  {
   "cell_type": "code",
   "execution_count": 26,
   "id": "c9aa1bbc",
   "metadata": {},
   "outputs": [],
   "source": [
    "resenha['classificacao'] = classificacao"
   ]
  },
  {
   "cell_type": "code",
   "execution_count": 28,
   "id": "c92635bf",
   "metadata": {},
   "outputs": [
    {
     "data": {
      "text/html": [
       "<div>\n",
       "<style scoped>\n",
       "    .dataframe tbody tr th:only-of-type {\n",
       "        vertical-align: middle;\n",
       "    }\n",
       "\n",
       "    .dataframe tbody tr th {\n",
       "        vertical-align: top;\n",
       "    }\n",
       "\n",
       "    .dataframe thead th {\n",
       "        text-align: right;\n",
       "    }\n",
       "</style>\n",
       "<table border=\"1\" class=\"dataframe\">\n",
       "  <thead>\n",
       "    <tr style=\"text-align: right;\">\n",
       "      <th></th>\n",
       "      <th>id</th>\n",
       "      <th>text_en</th>\n",
       "      <th>text_pt</th>\n",
       "      <th>sentiment</th>\n",
       "      <th>classificacao</th>\n",
       "    </tr>\n",
       "  </thead>\n",
       "  <tbody>\n",
       "    <tr>\n",
       "      <th>0</th>\n",
       "      <td>1</td>\n",
       "      <td>Once again Mr. Costner has dragged out a movie...</td>\n",
       "      <td>Mais uma vez, o Sr. Costner arrumou um filme p...</td>\n",
       "      <td>neg</td>\n",
       "      <td>0</td>\n",
       "    </tr>\n",
       "    <tr>\n",
       "      <th>1</th>\n",
       "      <td>2</td>\n",
       "      <td>This is an example of why the majority of acti...</td>\n",
       "      <td>Este é um exemplo do motivo pelo qual a maiori...</td>\n",
       "      <td>neg</td>\n",
       "      <td>0</td>\n",
       "    </tr>\n",
       "    <tr>\n",
       "      <th>2</th>\n",
       "      <td>3</td>\n",
       "      <td>First of all I hate those moronic rappers, who...</td>\n",
       "      <td>Primeiro de tudo eu odeio esses raps imbecis, ...</td>\n",
       "      <td>neg</td>\n",
       "      <td>0</td>\n",
       "    </tr>\n",
       "    <tr>\n",
       "      <th>3</th>\n",
       "      <td>4</td>\n",
       "      <td>Not even the Beatles could write songs everyon...</td>\n",
       "      <td>Nem mesmo os Beatles puderam escrever músicas ...</td>\n",
       "      <td>neg</td>\n",
       "      <td>0</td>\n",
       "    </tr>\n",
       "    <tr>\n",
       "      <th>4</th>\n",
       "      <td>5</td>\n",
       "      <td>Brass pictures movies is not a fitting word fo...</td>\n",
       "      <td>Filmes de fotos de latão não é uma palavra apr...</td>\n",
       "      <td>neg</td>\n",
       "      <td>0</td>\n",
       "    </tr>\n",
       "  </tbody>\n",
       "</table>\n",
       "</div>"
      ],
      "text/plain": [
       "   id                                            text_en  \\\n",
       "0   1  Once again Mr. Costner has dragged out a movie...   \n",
       "1   2  This is an example of why the majority of acti...   \n",
       "2   3  First of all I hate those moronic rappers, who...   \n",
       "3   4  Not even the Beatles could write songs everyon...   \n",
       "4   5  Brass pictures movies is not a fitting word fo...   \n",
       "\n",
       "                                             text_pt sentiment  classificacao  \n",
       "0  Mais uma vez, o Sr. Costner arrumou um filme p...       neg              0  \n",
       "1  Este é um exemplo do motivo pelo qual a maiori...       neg              0  \n",
       "2  Primeiro de tudo eu odeio esses raps imbecis, ...       neg              0  \n",
       "3  Nem mesmo os Beatles puderam escrever músicas ...       neg              0  \n",
       "4  Filmes de fotos de latão não é uma palavra apr...       neg              0  "
      ]
     },
     "execution_count": 28,
     "metadata": {},
     "output_type": "execute_result"
    }
   ],
   "source": [
    "resenha.head()"
   ]
  },
  {
   "cell_type": "code",
   "execution_count": 29,
   "id": "6dafaf3e",
   "metadata": {},
   "outputs": [
    {
     "data": {
      "text/html": [
       "<div>\n",
       "<style scoped>\n",
       "    .dataframe tbody tr th:only-of-type {\n",
       "        vertical-align: middle;\n",
       "    }\n",
       "\n",
       "    .dataframe tbody tr th {\n",
       "        vertical-align: top;\n",
       "    }\n",
       "\n",
       "    .dataframe thead th {\n",
       "        text-align: right;\n",
       "    }\n",
       "</style>\n",
       "<table border=\"1\" class=\"dataframe\">\n",
       "  <thead>\n",
       "    <tr style=\"text-align: right;\">\n",
       "      <th></th>\n",
       "      <th>id</th>\n",
       "      <th>text_en</th>\n",
       "      <th>text_pt</th>\n",
       "      <th>sentiment</th>\n",
       "      <th>classificacao</th>\n",
       "    </tr>\n",
       "  </thead>\n",
       "  <tbody>\n",
       "    <tr>\n",
       "      <th>49454</th>\n",
       "      <td>49456</td>\n",
       "      <td>Seeing as the vote average was pretty low, and...</td>\n",
       "      <td>Como a média de votos era muito baixa, e o fat...</td>\n",
       "      <td>pos</td>\n",
       "      <td>1</td>\n",
       "    </tr>\n",
       "    <tr>\n",
       "      <th>49455</th>\n",
       "      <td>49457</td>\n",
       "      <td>The plot had some wretched, unbelievable twist...</td>\n",
       "      <td>O enredo teve algumas reviravoltas infelizes e...</td>\n",
       "      <td>pos</td>\n",
       "      <td>1</td>\n",
       "    </tr>\n",
       "    <tr>\n",
       "      <th>49456</th>\n",
       "      <td>49458</td>\n",
       "      <td>I am amazed at how this movieand most others h...</td>\n",
       "      <td>Estou espantado com a forma como este filme e ...</td>\n",
       "      <td>pos</td>\n",
       "      <td>1</td>\n",
       "    </tr>\n",
       "    <tr>\n",
       "      <th>49457</th>\n",
       "      <td>49459</td>\n",
       "      <td>A Christmas Together actually came before my t...</td>\n",
       "      <td>A Christmas Together realmente veio antes do m...</td>\n",
       "      <td>pos</td>\n",
       "      <td>1</td>\n",
       "    </tr>\n",
       "    <tr>\n",
       "      <th>49458</th>\n",
       "      <td>49460</td>\n",
       "      <td>Working-class romantic drama from director Mar...</td>\n",
       "      <td>O drama romântico da classe trabalhadora do di...</td>\n",
       "      <td>pos</td>\n",
       "      <td>1</td>\n",
       "    </tr>\n",
       "  </tbody>\n",
       "</table>\n",
       "</div>"
      ],
      "text/plain": [
       "          id                                            text_en  \\\n",
       "49454  49456  Seeing as the vote average was pretty low, and...   \n",
       "49455  49457  The plot had some wretched, unbelievable twist...   \n",
       "49456  49458  I am amazed at how this movieand most others h...   \n",
       "49457  49459  A Christmas Together actually came before my t...   \n",
       "49458  49460  Working-class romantic drama from director Mar...   \n",
       "\n",
       "                                                 text_pt sentiment  \\\n",
       "49454  Como a média de votos era muito baixa, e o fat...       pos   \n",
       "49455  O enredo teve algumas reviravoltas infelizes e...       pos   \n",
       "49456  Estou espantado com a forma como este filme e ...       pos   \n",
       "49457  A Christmas Together realmente veio antes do m...       pos   \n",
       "49458  O drama romântico da classe trabalhadora do di...       pos   \n",
       "\n",
       "       classificacao  \n",
       "49454              1  \n",
       "49455              1  \n",
       "49456              1  \n",
       "49457              1  \n",
       "49458              1  "
      ]
     },
     "execution_count": 29,
     "metadata": {},
     "output_type": "execute_result"
    }
   ],
   "source": [
    "resenha.tail()"
   ]
  },
  {
   "attachments": {},
   "cell_type": "markdown",
   "id": "64ec670c",
   "metadata": {},
   "source": [
    "### Sacola de Palavras ou Bag of words:\n",
    "Passo onde permite contar todas as palavras em um pedaço de texto. Baseia-se na criação de uma matriz de ocorrência de palavras para a sentença, não leva em conta a estrutura (gramática) nem a ordem das palavras. As frequências ou ocorrências de palavras são usadas para comparação de diferentes documentos e avalia suas similariedades para aplicação\n",
    "\n",
    "Criamos um vocabulário. Seria basicamente separar todas as palavras de um comentário e agrupar as palavras repetidas. \n",
    "\n",
    "A matriz criada, no entanto, não é muito eficiente pois ocupa muito espaço na memória para armazená-la.\n"
   ]
  },
  {
   "cell_type": "markdown",
   "id": "d72a3146",
   "metadata": {},
   "source": [
    "#### Referências:\n",
    "\n",
    "- Curso: [Alura - Linguagem Natural parte 1: NLP com análise de sentimento](https://cursos.alura.com.br/course/introducao-a-nlp-com-analise-de-sentimento)\n",
    "- [Um guia para NPL - Processamento de Linguagem Natural](https://ilumeo.com.br/todos-posts/2020/06/12/um-guia-para-pnl-processamento-de-linguagem-natural)\n",
    "- [Sentiment Analysis: Concept, Analysis and Applications](https://towardsdatascience.com/sentiment-analysis-concept-analysis-and-applications-6c94d6f58c17)\n",
    "- [A friendly guide to NLP: Bag-of-Words with Python example](https://www.analyticsvidhya.com/blog/2021/08/a-friendly-guide-to-nlp-bag-of-words-with-python-example/)"
   ]
  },
  {
   "cell_type": "code",
   "execution_count": null,
   "id": "0ed46c75",
   "metadata": {},
   "outputs": [],
   "source": []
  }
 ],
 "metadata": {
  "kernelspec": {
   "display_name": "Python 3 (ipykernel)",
   "language": "python",
   "name": "python3"
  },
  "language_info": {
   "codemirror_mode": {
    "name": "ipython",
    "version": 3
   },
   "file_extension": ".py",
   "mimetype": "text/x-python",
   "name": "python",
   "nbconvert_exporter": "python",
   "pygments_lexer": "ipython3",
   "version": "3.8.11"
  }
 },
 "nbformat": 4,
 "nbformat_minor": 5
}
