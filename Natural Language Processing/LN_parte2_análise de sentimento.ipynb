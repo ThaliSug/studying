{
 "cells": [
  {
   "cell_type": "markdown",
   "id": "edc9fcfe",
   "metadata": {},
   "source": [
    "## Processamento de Linguagem natural - parte2:\n",
    "\n",
    "- Modificar os stop words (acrescendo outras palavras e simbolos)\n",
    "\n",
    "- Evitar variações de palavras (como de gênero e número)\n",
    "\n",
    "- TF- IDF (term frequency-inverse document frequency)= forma de representar texto, atribuindo peso às palavras mais importantes\n",
    "\n",
    "- Ngrams"
   ]
  },
  {
   "cell_type": "code",
   "execution_count": 1,
   "id": "f09e1980",
   "metadata": {},
   "outputs": [],
   "source": [
    "import pandas as pd\n",
    "from sklearn.model_selection import train_test_split\n",
    "from sklearn.linear_model import LogisticRegression\n",
    "from sklearn.feature_extraction.text import CountVectorizer\n",
    "from wordcloud import WordCloud\n",
    "import matplotlib.pyplot as plt\n",
    "import seaborn as sns\n",
    "import nltk \n",
    "from nltk import tokenize\n",
    "\n",
    "from string import punctuation"
   ]
  },
  {
   "cell_type": "code",
   "execution_count": null,
   "id": "daea6577",
   "metadata": {
    "scrolled": true
   },
   "outputs": [],
   "source": []
  },
  {
   "cell_type": "code",
   "execution_count": 2,
   "id": "7d052093",
   "metadata": {},
   "outputs": [],
   "source": [
    "resenha = pd.read_csv('dados/imdb-reviews-pt-br.csv')\n",
    "classificacao = resenha['sentiment'].replace(['neg','pos'],[0,1])\n",
    "resenha['classificacao'] = classificacao"
   ]
  },
  {
   "cell_type": "code",
   "execution_count": 3,
   "id": "a61bb6cd",
   "metadata": {},
   "outputs": [],
   "source": [
    "def classificar_texto(texto, coluna_texto, coluna_classificacao):\n",
    "    vetorizar = CountVectorizer(lowercase=False, max_features=50)\n",
    "    bag_of_words = vetorizar.fit_transform(texto[coluna_texto])\n",
    "    treino, teste, classe_treino, classe_teste = train_test_split(bag_of_words,\n",
    "                                                              texto[coluna_classificacao],\n",
    "                                                              random_state = 42)\n",
    "    regressao_logistica = LogisticRegression(solver = \"lbfgs\")\n",
    "    regressao_logistica.fit(treino, classe_treino)\n",
    "    return regressao_logistica.score(teste, classe_teste)\n",
    "\n",
    "def nuvem_palavras_neg(texto, coluna_texto):\n",
    "    texto_negativo = texto.query(\"sentiment=='neg'\")\n",
    "    todas_palavras = ' '.join(texto for texto in texto_negativo[coluna_texto])\n",
    "    \n",
    "    nuvem_palavras = WordCloud(width=800, height=500, max_font_size=110,\n",
    "                              collocations=False).generate(todas_palavras)\n",
    "    plt.figure(figsize=(10,7))\n",
    "    plt.imshow(nuvem_palavras, interpolation='bilinear')\n",
    "    plt.axis(\"off\")\n",
    "    plt.show()\n",
    "    \n",
    "def nuvem_palavras_pos(texto, coluna_texto):\n",
    "    texto_positivo = texto.query(\"sentiment=='pos'\")\n",
    "    todas_palavras = ' '.join(texto for texto in texto_positivo[coluna_texto])\n",
    "    \n",
    "    nuvem_palavras = WordCloud(width=800, height=500, max_font_size=110,\n",
    "                              collocations=False).generate(todas_palavras)\n",
    "    plt.figure(figsize=(10,7))\n",
    "    plt.imshow(nuvem_palavras, interpolation='bilinear')\n",
    "    plt.axis(\"off\")\n",
    "    plt.show()\n",
    "\n",
    "def pareto(texto, coluna_texto, quantidade):\n",
    "    todas_palavras = ' '.join([resenha for resenha in texto[coluna_texto]])\n",
    "    token_espaco = nltk.tokenize.WhitespaceTokenizer()\n",
    "    token_frase = token_espaco.tokenize(todas_palavras)\n",
    "    frequencias = nltk.FreqDist(token_frase)\n",
    "    df_frequencias = pd.DataFrame({'Palavras': list(frequencias.keys()),\n",
    "                               'Frequencia': list(frequencias.values())})\n",
    "    df_frequencias = df_frequencias.nlargest(n=quantidade, columns='Frequencia')\n",
    "\n",
    "    total = df_frequencias['Frequencia'].sum()\n",
    "    df_frequencias['Porcentagem'] = df_frequencias['Frequencia'].cumsum() / total * 100\n",
    "\n",
    "    plt.figure(figsize=(12,8))\n",
    "    ax = sns.barplot(data=df_frequencias, x='Palavras', y='Frequencia', color='gray')\n",
    "    ax2 = ax.twinx()\n",
    "    sns.lineplot(data=df_frequencias, x='Palavras', y='Porcentagem', color='red', sort=False, ax=ax2)\n",
    "    plt.show()"
   ]
  },
  {
   "cell_type": "code",
   "execution_count": 4,
   "id": "8a62af14",
   "metadata": {},
   "outputs": [],
   "source": [
    "palavras_irrelevantes = nltk.corpus.stopwords.words(\"portuguese\")\n",
    "token_espaco = tokenize.WhitespaceTokenizer()\n",
    "frase_processada = list()\n",
    "\n",
    "for opiniao in resenha.text_pt:\n",
    "    nova_frase = list()\n",
    "    palavra_texto = token_espaco.tokenize(opiniao)\n",
    "    for palavra in palavra_texto:\n",
    "        if palavra not in palavras_irrelevantes:\n",
    "            nova_frase.append(palavra)\n",
    "    frase_processada.append(' '.join(nova_frase))\n",
    "    \n",
    "resenha['tratamento_1'] = frase_processada"
   ]
  },
  {
   "cell_type": "markdown",
   "id": "ef9e120b",
   "metadata": {},
   "source": [
    "## WordPunctTokenizer\n",
    "\n",
    "Somos capazes de extrair tokens de string de palavras ou sentenças na forma de caracteres Alpabéticos e não alphabéticos. \n",
    "\n",
    "'we are able to extract the tokens from string of words or sentences in the form of Alphabetic and Non-Alphabetic character by using `tokenize.WordPunctTokenizer()` method.'\n",
    "\n",
    "https://www.geeksforgeeks.org/python-nltk-tokenize-wordpuncttokenizer/"
   ]
  },
  {
   "cell_type": "code",
   "execution_count": 5,
   "id": "17fae518",
   "metadata": {},
   "outputs": [
    {
     "name": "stdout",
     "output_type": "stream",
     "text": [
      "['Olá', '..%', '46', '*$#', 'mundo', '!']\n"
     ]
    }
   ],
   "source": [
    "frase = \"Olá..%46 *$# mundo!\"\n",
    "token_pontuacao = tokenize.WordPunctTokenizer()\n",
    "token_frase = token_pontuacao.tokenize(frase)\n",
    "print(token_frase)"
   ]
  },
  {
   "cell_type": "code",
   "execution_count": 6,
   "id": "ee0984da",
   "metadata": {},
   "outputs": [],
   "source": [
    "from string import punctuation"
   ]
  },
  {
   "cell_type": "code",
   "execution_count": 7,
   "id": "1595f273",
   "metadata": {},
   "outputs": [
    {
     "data": {
      "text/plain": [
       "'!\"#$%&\\'()*+,-./:;<=>?@[\\\\]^_`{|}~'"
      ]
     },
     "execution_count": 7,
     "metadata": {},
     "output_type": "execute_result"
    }
   ],
   "source": [
    "punctuation"
   ]
  },
  {
   "cell_type": "code",
   "execution_count": 8,
   "id": "b35fe1b4",
   "metadata": {},
   "outputs": [],
   "source": [
    "pontuacao = list()\n",
    "\n",
    "for caractere in punctuation:\n",
    "    pontuacao.append(caractere)"
   ]
  },
  {
   "cell_type": "code",
   "execution_count": 9,
   "id": "eb805b25",
   "metadata": {
    "scrolled": true
   },
   "outputs": [
    {
     "data": {
      "text/plain": [
       "['!',\n",
       " '\"',\n",
       " '#',\n",
       " '$',\n",
       " '%',\n",
       " '&',\n",
       " \"'\",\n",
       " '(',\n",
       " ')',\n",
       " '*',\n",
       " '+',\n",
       " ',',\n",
       " '-',\n",
       " '.',\n",
       " '/',\n",
       " ':',\n",
       " ';',\n",
       " '<',\n",
       " '=',\n",
       " '>',\n",
       " '?',\n",
       " '@',\n",
       " '[',\n",
       " '\\\\',\n",
       " ']',\n",
       " '^',\n",
       " '_',\n",
       " '`',\n",
       " '{',\n",
       " '|',\n",
       " '}',\n",
       " '~']"
      ]
     },
     "execution_count": 9,
     "metadata": {},
     "output_type": "execute_result"
    }
   ],
   "source": [
    "pontuacao"
   ]
  },
  {
   "cell_type": "code",
   "execution_count": 10,
   "id": "1c6fbd38",
   "metadata": {},
   "outputs": [],
   "source": [
    "pontuacao = list()\n",
    "\n",
    "for caractere in punctuation:\n",
    "    pontuacao.append(caractere)\n",
    "    \n",
    "pontuacao_stopwords = pontuacao + palavras_irrelevantes\n",
    "\n",
    "frase_processada = list()\n",
    "for opiniao in resenha['tratamento_1']:\n",
    "    nova_frase = list()\n",
    "    palavras_texto = token_pontuacao.tokenize(opiniao)\n",
    "    for palavras in palavras_texto:\n",
    "        if palavras not in pontuacao_stopwords:\n",
    "            nova_frase.append(palavras)\n",
    "    frase_processada.append(' '.join(nova_frase))\n",
    "    \n",
    "    \n",
    "resenha['tratamento_2'] = frase_processada"
   ]
  },
  {
   "cell_type": "code",
   "execution_count": 11,
   "id": "b557d5a6",
   "metadata": {},
   "outputs": [
    {
     "data": {
      "text/html": [
       "<div>\n",
       "<style scoped>\n",
       "    .dataframe tbody tr th:only-of-type {\n",
       "        vertical-align: middle;\n",
       "    }\n",
       "\n",
       "    .dataframe tbody tr th {\n",
       "        vertical-align: top;\n",
       "    }\n",
       "\n",
       "    .dataframe thead th {\n",
       "        text-align: right;\n",
       "    }\n",
       "</style>\n",
       "<table border=\"1\" class=\"dataframe\">\n",
       "  <thead>\n",
       "    <tr style=\"text-align: right;\">\n",
       "      <th></th>\n",
       "      <th>id</th>\n",
       "      <th>text_en</th>\n",
       "      <th>text_pt</th>\n",
       "      <th>sentiment</th>\n",
       "      <th>classificacao</th>\n",
       "      <th>tratamento_1</th>\n",
       "      <th>tratamento_2</th>\n",
       "    </tr>\n",
       "  </thead>\n",
       "  <tbody>\n",
       "    <tr>\n",
       "      <th>0</th>\n",
       "      <td>1</td>\n",
       "      <td>Once again Mr. Costner has dragged out a movie...</td>\n",
       "      <td>Mais uma vez, o Sr. Costner arrumou um filme p...</td>\n",
       "      <td>neg</td>\n",
       "      <td>0</td>\n",
       "      <td>Mais vez, Sr. Costner arrumou filme tempo nece...</td>\n",
       "      <td>Mais vez Sr Costner arrumou filme tempo necess...</td>\n",
       "    </tr>\n",
       "    <tr>\n",
       "      <th>1</th>\n",
       "      <td>2</td>\n",
       "      <td>This is an example of why the majority of acti...</td>\n",
       "      <td>Este é um exemplo do motivo pelo qual a maiori...</td>\n",
       "      <td>neg</td>\n",
       "      <td>0</td>\n",
       "      <td>Este exemplo motivo maioria filmes ação mesmos...</td>\n",
       "      <td>Este exemplo motivo maioria filmes ação mesmos...</td>\n",
       "    </tr>\n",
       "    <tr>\n",
       "      <th>2</th>\n",
       "      <td>3</td>\n",
       "      <td>First of all I hate those moronic rappers, who...</td>\n",
       "      <td>Primeiro de tudo eu odeio esses raps imbecis, ...</td>\n",
       "      <td>neg</td>\n",
       "      <td>0</td>\n",
       "      <td>Primeiro tudo odeio raps imbecis, poderiam agi...</td>\n",
       "      <td>Primeiro tudo odeio raps imbecis poderiam agir...</td>\n",
       "    </tr>\n",
       "    <tr>\n",
       "      <th>3</th>\n",
       "      <td>4</td>\n",
       "      <td>Not even the Beatles could write songs everyon...</td>\n",
       "      <td>Nem mesmo os Beatles puderam escrever músicas ...</td>\n",
       "      <td>neg</td>\n",
       "      <td>0</td>\n",
       "      <td>Nem Beatles puderam escrever músicas todos gos...</td>\n",
       "      <td>Nem Beatles puderam escrever músicas todos gos...</td>\n",
       "    </tr>\n",
       "    <tr>\n",
       "      <th>4</th>\n",
       "      <td>5</td>\n",
       "      <td>Brass pictures movies is not a fitting word fo...</td>\n",
       "      <td>Filmes de fotos de latão não é uma palavra apr...</td>\n",
       "      <td>neg</td>\n",
       "      <td>0</td>\n",
       "      <td>Filmes fotos latão palavra apropriada eles, ve...</td>\n",
       "      <td>Filmes fotos latão palavra apropriada verdade ...</td>\n",
       "    </tr>\n",
       "  </tbody>\n",
       "</table>\n",
       "</div>"
      ],
      "text/plain": [
       "   id                                            text_en  \\\n",
       "0   1  Once again Mr. Costner has dragged out a movie...   \n",
       "1   2  This is an example of why the majority of acti...   \n",
       "2   3  First of all I hate those moronic rappers, who...   \n",
       "3   4  Not even the Beatles could write songs everyon...   \n",
       "4   5  Brass pictures movies is not a fitting word fo...   \n",
       "\n",
       "                                             text_pt sentiment  classificacao  \\\n",
       "0  Mais uma vez, o Sr. Costner arrumou um filme p...       neg              0   \n",
       "1  Este é um exemplo do motivo pelo qual a maiori...       neg              0   \n",
       "2  Primeiro de tudo eu odeio esses raps imbecis, ...       neg              0   \n",
       "3  Nem mesmo os Beatles puderam escrever músicas ...       neg              0   \n",
       "4  Filmes de fotos de latão não é uma palavra apr...       neg              0   \n",
       "\n",
       "                                        tratamento_1  \\\n",
       "0  Mais vez, Sr. Costner arrumou filme tempo nece...   \n",
       "1  Este exemplo motivo maioria filmes ação mesmos...   \n",
       "2  Primeiro tudo odeio raps imbecis, poderiam agi...   \n",
       "3  Nem Beatles puderam escrever músicas todos gos...   \n",
       "4  Filmes fotos latão palavra apropriada eles, ve...   \n",
       "\n",
       "                                        tratamento_2  \n",
       "0  Mais vez Sr Costner arrumou filme tempo necess...  \n",
       "1  Este exemplo motivo maioria filmes ação mesmos...  \n",
       "2  Primeiro tudo odeio raps imbecis poderiam agir...  \n",
       "3  Nem Beatles puderam escrever músicas todos gos...  \n",
       "4  Filmes fotos latão palavra apropriada verdade ...  "
      ]
     },
     "execution_count": 11,
     "metadata": {},
     "output_type": "execute_result"
    }
   ],
   "source": [
    "resenha.head()"
   ]
  },
  {
   "cell_type": "markdown",
   "id": "d8fbe4b8",
   "metadata": {},
   "source": [
    "### Comparando a resenha_1 com resenha_2:"
   ]
  },
  {
   "cell_type": "code",
   "execution_count": 12,
   "id": "aac04b4b",
   "metadata": {},
   "outputs": [
    {
     "data": {
      "text/plain": [
       "'Mais vez, Sr. Costner arrumou filme tempo necessário. Além terríveis seqüências resgate mar, quais poucas, simplesmente importei nenhum personagens. A maioria fantasmas armário, personagem Costers realizado logo início, esquecido tarde, importava. O personagem deveríamos importar arrogante superconfiante, Ashton Kutcher. O problema sai garoto pensa melhor qualquer outra pessoa redor mostra sinais armário desordenado. Seu único obstáculo parece vencendo Costner. Finalmente, bem além meio caminho, Costner conta sobre fantasmas Kutchers. Somos informados Kutcher levado melhor pressentimentos presságios anteriores. Nenhuma mágica aqui, tudo podia fazer desligar hora.'"
      ]
     },
     "execution_count": 12,
     "metadata": {},
     "output_type": "execute_result"
    }
   ],
   "source": [
    "resenha['tratamento_1'][0]"
   ]
  },
  {
   "cell_type": "code",
   "execution_count": 13,
   "id": "15598dfa",
   "metadata": {},
   "outputs": [
    {
     "data": {
      "text/plain": [
       "'Mais vez Sr Costner arrumou filme tempo necessário Além terríveis seqüências resgate mar quais poucas simplesmente importei nenhum personagens A maioria fantasmas armário personagem Costers realizado logo início esquecido tarde importava O personagem deveríamos importar arrogante superconfiante Ashton Kutcher O problema sai garoto pensa melhor qualquer outra pessoa redor mostra sinais armário desordenado Seu único obstáculo parece vencendo Costner Finalmente bem além meio caminho Costner conta sobre fantasmas Kutchers Somos informados Kutcher levado melhor pressentimentos presságios anteriores Nenhuma mágica aqui tudo podia fazer desligar hora'"
      ]
     },
     "execution_count": 13,
     "metadata": {},
     "output_type": "execute_result"
    }
   ],
   "source": [
    "resenha['tratamento_2'][0]"
   ]
  },
  {
   "cell_type": "code",
   "execution_count": 14,
   "id": "fceed965",
   "metadata": {},
   "outputs": [
    {
     "data": {
      "image/png": "[encoded data removed]",
      "text/plain": [
       "<Figure size 1200x800 with 2 Axes>"
      ]
     },
     "metadata": {},
     "output_type": "display_data"
    }
   ],
   "source": [
    "pareto(resenha,'tratamento_2',10)"
   ]
  },
  {
   "cell_type": "markdown",
   "id": "b5edc885",
   "metadata": {},
   "source": [
    "É necessário retirar a pontuação, pois mesmo usando o CountVectorizer para realizar a representação em Bag of Words, nós criamos a função pareto, que por sua vez não remove a pontuação automaticamente. Portanto, para que o pareto represente a frequência das palavras, o mais próximo possível da frequência da representação Bag of W\\ords é importante remover as pontuações do nosso corpus."
   ]
  },
  {
   "cell_type": "markdown",
   "id": "43fe0cc5",
   "metadata": {},
   "source": [
    "### Palavras com acento:\n",
    "\n"
   ]
  },
  {
   "cell_type": "code",
   "execution_count": 15,
   "id": "353a6ef1",
   "metadata": {},
   "outputs": [],
   "source": [
    "import unidecode"
   ]
  },
  {
   "cell_type": "code",
   "execution_count": 16,
   "id": "f6c6e27c",
   "metadata": {},
   "outputs": [
    {
     "name": "stdout",
     "output_type": "stream",
     "text": [
      "otimo pessimo nao tao \n"
     ]
    }
   ],
   "source": [
    "frase_com_acentos = \"ótimo péssimo não tão \"\n",
    "\n",
    "teste = unidecode.unidecode(frase_com_acentos)\n",
    "print(teste)"
   ]
  },
  {
   "cell_type": "code",
   "execution_count": 17,
   "id": "5ba544f2",
   "metadata": {},
   "outputs": [],
   "source": [
    "sem_acentos = [unidecode.unidecode(texto) for texto in resenha[\"tratamento_2\"]]"
   ]
  },
  {
   "cell_type": "code",
   "execution_count": 18,
   "id": "00d56ac0",
   "metadata": {},
   "outputs": [
    {
     "data": {
      "text/plain": [
       "'Mais vez Sr Costner arrumou filme tempo necessario Alem terriveis sequencias resgate mar quais poucas simplesmente importei nenhum personagens A maioria fantasmas armario personagem Costers realizado logo inicio esquecido tarde importava O personagem deveriamos importar arrogante superconfiante Ashton Kutcher O problema sai garoto pensa melhor qualquer outra pessoa redor mostra sinais armario desordenado Seu unico obstaculo parece vencendo Costner Finalmente bem alem meio caminho Costner conta sobre fantasmas Kutchers Somos informados Kutcher levado melhor pressentimentos pressagios anteriores Nenhuma magica aqui tudo podia fazer desligar hora'"
      ]
     },
     "execution_count": 18,
     "metadata": {},
     "output_type": "execute_result"
    }
   ],
   "source": [
    "sem_acentos[0]"
   ]
  },
  {
   "cell_type": "code",
   "execution_count": 19,
   "id": "8986e953",
   "metadata": {},
   "outputs": [],
   "source": [
    "stopwords_sem_acento = [unidecode.unidecode(texto) for texto in pontuacao_stopwords]"
   ]
  },
  {
   "cell_type": "code",
   "execution_count": 20,
   "id": "f4bccfaf",
   "metadata": {},
   "outputs": [
    {
     "data": {
      "text/plain": [
       "['!',\n",
       " '\"',\n",
       " '#',\n",
       " '$',\n",
       " '%',\n",
       " '&',\n",
       " \"'\",\n",
       " '(',\n",
       " ')',\n",
       " '*',\n",
       " '+',\n",
       " ',',\n",
       " '-',\n",
       " '.',\n",
       " '/',\n",
       " ':',\n",
       " ';',\n",
       " '<',\n",
       " '=',\n",
       " '>',\n",
       " '?',\n",
       " '@',\n",
       " '[',\n",
       " '\\\\',\n",
       " ']',\n",
       " '^',\n",
       " '_',\n",
       " '`',\n",
       " '{',\n",
       " '|',\n",
       " '}',\n",
       " '~',\n",
       " 'a',\n",
       " 'a',\n",
       " 'ao',\n",
       " 'aos',\n",
       " 'aquela',\n",
       " 'aquelas',\n",
       " 'aquele',\n",
       " 'aqueles',\n",
       " 'aquilo',\n",
       " 'as',\n",
       " 'as',\n",
       " 'ate',\n",
       " 'com',\n",
       " 'como',\n",
       " 'da',\n",
       " 'das',\n",
       " 'de',\n",
       " 'dela',\n",
       " 'delas',\n",
       " 'dele',\n",
       " 'deles',\n",
       " 'depois',\n",
       " 'do',\n",
       " 'dos',\n",
       " 'e',\n",
       " 'e',\n",
       " 'ela',\n",
       " 'elas',\n",
       " 'ele',\n",
       " 'eles',\n",
       " 'em',\n",
       " 'entre',\n",
       " 'era',\n",
       " 'eram',\n",
       " 'eramos',\n",
       " 'essa',\n",
       " 'essas',\n",
       " 'esse',\n",
       " 'esses',\n",
       " 'esta',\n",
       " 'esta',\n",
       " 'estamos',\n",
       " 'estao',\n",
       " 'estar',\n",
       " 'estas',\n",
       " 'estava',\n",
       " 'estavam',\n",
       " 'estavamos',\n",
       " 'este',\n",
       " 'esteja',\n",
       " 'estejam',\n",
       " 'estejamos',\n",
       " 'estes',\n",
       " 'esteve',\n",
       " 'estive',\n",
       " 'estivemos',\n",
       " 'estiver',\n",
       " 'estivera',\n",
       " 'estiveram',\n",
       " 'estiveramos',\n",
       " 'estiverem',\n",
       " 'estivermos',\n",
       " 'estivesse',\n",
       " 'estivessem',\n",
       " 'estivessemos',\n",
       " 'estou',\n",
       " 'eu',\n",
       " 'foi',\n",
       " 'fomos',\n",
       " 'for',\n",
       " 'fora',\n",
       " 'foram',\n",
       " 'foramos',\n",
       " 'forem',\n",
       " 'formos',\n",
       " 'fosse',\n",
       " 'fossem',\n",
       " 'fossemos',\n",
       " 'fui',\n",
       " 'ha',\n",
       " 'haja',\n",
       " 'hajam',\n",
       " 'hajamos',\n",
       " 'hao',\n",
       " 'havemos',\n",
       " 'haver',\n",
       " 'hei',\n",
       " 'houve',\n",
       " 'houvemos',\n",
       " 'houver',\n",
       " 'houvera',\n",
       " 'houvera',\n",
       " 'houveram',\n",
       " 'houveramos',\n",
       " 'houverao',\n",
       " 'houverei',\n",
       " 'houverem',\n",
       " 'houveremos',\n",
       " 'houveria',\n",
       " 'houveriam',\n",
       " 'houveriamos',\n",
       " 'houvermos',\n",
       " 'houvesse',\n",
       " 'houvessem',\n",
       " 'houvessemos',\n",
       " 'isso',\n",
       " 'isto',\n",
       " 'ja',\n",
       " 'lhe',\n",
       " 'lhes',\n",
       " 'mais',\n",
       " 'mas',\n",
       " 'me',\n",
       " 'mesmo',\n",
       " 'meu',\n",
       " 'meus',\n",
       " 'minha',\n",
       " 'minhas',\n",
       " 'muito',\n",
       " 'na',\n",
       " 'nao',\n",
       " 'nas',\n",
       " 'nem',\n",
       " 'no',\n",
       " 'nos',\n",
       " 'nos',\n",
       " 'nossa',\n",
       " 'nossas',\n",
       " 'nosso',\n",
       " 'nossos',\n",
       " 'num',\n",
       " 'numa',\n",
       " 'o',\n",
       " 'os',\n",
       " 'ou',\n",
       " 'para',\n",
       " 'pela',\n",
       " 'pelas',\n",
       " 'pelo',\n",
       " 'pelos',\n",
       " 'por',\n",
       " 'qual',\n",
       " 'quando',\n",
       " 'que',\n",
       " 'quem',\n",
       " 'sao',\n",
       " 'se',\n",
       " 'seja',\n",
       " 'sejam',\n",
       " 'sejamos',\n",
       " 'sem',\n",
       " 'ser',\n",
       " 'sera',\n",
       " 'serao',\n",
       " 'serei',\n",
       " 'seremos',\n",
       " 'seria',\n",
       " 'seriam',\n",
       " 'seriamos',\n",
       " 'seu',\n",
       " 'seus',\n",
       " 'so',\n",
       " 'somos',\n",
       " 'sou',\n",
       " 'sua',\n",
       " 'suas',\n",
       " 'tambem',\n",
       " 'te',\n",
       " 'tem',\n",
       " 'tem',\n",
       " 'temos',\n",
       " 'tenha',\n",
       " 'tenham',\n",
       " 'tenhamos',\n",
       " 'tenho',\n",
       " 'tera',\n",
       " 'terao',\n",
       " 'terei',\n",
       " 'teremos',\n",
       " 'teria',\n",
       " 'teriam',\n",
       " 'teriamos',\n",
       " 'teu',\n",
       " 'teus',\n",
       " 'teve',\n",
       " 'tinha',\n",
       " 'tinham',\n",
       " 'tinhamos',\n",
       " 'tive',\n",
       " 'tivemos',\n",
       " 'tiver',\n",
       " 'tivera',\n",
       " 'tiveram',\n",
       " 'tiveramos',\n",
       " 'tiverem',\n",
       " 'tivermos',\n",
       " 'tivesse',\n",
       " 'tivessem',\n",
       " 'tivessemos',\n",
       " 'tu',\n",
       " 'tua',\n",
       " 'tuas',\n",
       " 'um',\n",
       " 'uma',\n",
       " 'voce',\n",
       " 'voces',\n",
       " 'vos']"
      ]
     },
     "execution_count": 20,
     "metadata": {},
     "output_type": "execute_result"
    }
   ],
   "source": [
    "stopwords_sem_acento"
   ]
  },
  {
   "cell_type": "code",
   "execution_count": null,
   "id": "3d7f9c4d",
   "metadata": {},
   "outputs": [],
   "source": []
  }
 ],
 "metadata": {
  "kernelspec": {
   "display_name": "Python 3 (ipykernel)",
   "language": "python",
   "name": "python3"
  },
  "language_info": {
   "codemirror_mode": {
    "name": "ipython",
    "version": 3
   },
   "file_extension": ".py",
   "mimetype": "text/x-python",
   "name": "python",
   "nbconvert_exporter": "python",
   "pygments_lexer": "ipython3",
   "version": "3.9.13"
  }
 },
 "nbformat": 4,
 "nbformat_minor": 5
}
