{
 "cells": [
  {
   "cell_type": "markdown",
   "id": "0c436b6a",
   "metadata": {},
   "source": [
    "Mais sobre o package config ver <a href='https://www.youtube.com/watch?v=Gdw0-QGq-z0'>esse</a>\n",
    "\n",
    "---\n",
    "Testando o que foi falado no video:\n"
   ]
  },
  {
   "cell_type": "code",
   "execution_count": 3,
   "id": "bc86fb51",
   "metadata": {},
   "outputs": [],
   "source": [
    "from configparser import ConfigParser"
   ]
  },
  {
   "cell_type": "code",
   "execution_count": 4,
   "id": "ab7ba9b5",
   "metadata": {},
   "outputs": [
    {
     "data": {
      "text/plain": [
       "['config.ini']"
      ]
     },
     "execution_count": 4,
     "metadata": {},
     "output_type": "execute_result"
    }
   ],
   "source": [
    "file = 'config.ini'\n",
    "\n",
    "config = ConfigParser()\n",
    "config.read(file)"
   ]
  },
  {
   "cell_type": "code",
   "execution_count": 6,
   "id": "2c82832b",
   "metadata": {},
   "outputs": [
    {
     "name": "stdout",
     "output_type": "stream",
     "text": [
      "['account', 'client']\n"
     ]
    }
   ],
   "source": [
    "print(config.sections())"
   ]
  },
  {
   "cell_type": "code",
   "execution_count": 7,
   "id": "fb6a342b",
   "metadata": {},
   "outputs": [
    {
     "name": "stdout",
     "output_type": "stream",
     "text": [
      "<Section: account>\n"
     ]
    }
   ],
   "source": [
    "print(config['account'])"
   ]
  },
  {
   "cell_type": "code",
   "execution_count": 8,
   "id": "72fc86e3",
   "metadata": {},
   "outputs": [
    {
     "name": "stdout",
     "output_type": "stream",
     "text": [
      "['status', 'id', 'pin']\n"
     ]
    }
   ],
   "source": [
    "print(list(config['account']))"
   ]
  },
  {
   "cell_type": "code",
   "execution_count": 9,
   "id": "f5a6c9ee",
   "metadata": {},
   "outputs": [
    {
     "name": "stdout",
     "output_type": "stream",
     "text": [
      "['name', 'surname', 'profession']\n"
     ]
    }
   ],
   "source": [
    "print(list(config['client']))"
   ]
  },
  {
   "cell_type": "code",
   "execution_count": 10,
   "id": "915af302",
   "metadata": {},
   "outputs": [
    {
     "name": "stdout",
     "output_type": "stream",
     "text": [
      "3627\n"
     ]
    }
   ],
   "source": [
    "print(config['account']['pin'])"
   ]
  },
  {
   "cell_type": "code",
   "execution_count": 11,
   "id": "1eaaf9a3",
   "metadata": {},
   "outputs": [],
   "source": [
    "# Updating the config\n",
    "\n",
    "config.add_section('bank')\n",
    "config.set('bank','name', 'hsbc')"
   ]
  },
  {
   "cell_type": "code",
   "execution_count": 12,
   "id": "2e54091f",
   "metadata": {},
   "outputs": [],
   "source": [
    "with open(file,'w') as configfile:\n",
    "    config.write(configfile)"
   ]
  },
  {
   "cell_type": "markdown",
   "id": "f6d731c4",
   "metadata": {},
   "source": [
    "---"
   ]
  },
  {
   "cell_type": "markdown",
   "id": "b2b10b62",
   "metadata": {},
   "source": [
    "We’re going to request records from The Movie Database API. Before we get started, you will need to obtain an API key to make requests. You can find the instructions for obtaining a key <a href='https://developers.themoviedb.org/3/getting-started/authentication'>here</a>.\n",
    "Once you have your key, you will need to make sure you don’t put it directly into your source code. One quick way to do this is to create a file called config.py in the same directory you will be creating your ETL script in. Put this into the file:"
   ]
  },
  {
   "cell_type": "code",
   "execution_count": null,
   "id": "aea6a01d",
   "metadata": {},
   "outputs": [],
   "source": [
    "#config.py\n",
    "api_key = <YOUR API KEY HERE>"
   ]
  },
  {
   "cell_type": "code",
   "execution_count": 16,
   "id": "7e496bef",
   "metadata": {},
   "outputs": [
    {
     "name": "stdout",
     "output_type": "stream",
     "text": [
      "Collecting config\n",
      "  Downloading config-0.5.1-py2.py3-none-any.whl (20 kB)\n",
      "Installing collected packages: config\n",
      "Successfully installed config-0.5.1\n"
     ]
    }
   ],
   "source": [
    "#!pip install config"
   ]
  },
  {
   "cell_type": "code",
   "execution_count": 17,
   "id": "5082c5af",
   "metadata": {},
   "outputs": [],
   "source": [
    "import pandas as pd\n",
    "import requests\n",
    "import config"
   ]
  },
  {
   "cell_type": "code",
   "execution_count": 24,
   "id": "d1a8ad94",
   "metadata": {},
   "outputs": [
    {
     "ename": "AttributeError",
     "evalue": "module 'config' has no attribute 'api_key'",
     "output_type": "error",
     "traceback": [
      "\u001b[1;31m---------------------------------------------------------------------------\u001b[0m",
      "\u001b[1;31mAttributeError\u001b[0m                            Traceback (most recent call last)",
      "\u001b[1;32m~\\AppData\\Local\\Temp/ipykernel_19468/790660646.py\u001b[0m in \u001b[0;36m<module>\u001b[1;34m\u001b[0m\n\u001b[0;32m      1\u001b[0m \u001b[0mresponse_list\u001b[0m \u001b[1;33m=\u001b[0m \u001b[1;33m[\u001b[0m\u001b[1;33m]\u001b[0m\u001b[1;33m\u001b[0m\u001b[1;33m\u001b[0m\u001b[0m\n\u001b[1;32m----> 2\u001b[1;33m \u001b[0mAPI_KEY\u001b[0m \u001b[1;33m=\u001b[0m \u001b[0mconfig\u001b[0m\u001b[1;33m.\u001b[0m\u001b[0mapi_key\u001b[0m\u001b[1;33m\u001b[0m\u001b[1;33m\u001b[0m\u001b[0m\n\u001b[0m",
      "\u001b[1;31mAttributeError\u001b[0m: module 'config' has no attribute 'api_key'"
     ]
    }
   ],
   "source": [
    "response_list = []\n",
    "API_KEY = config.api_key\n"
   ]
  },
  {
   "cell_type": "code",
   "execution_count": null,
   "id": "fc7003b1",
   "metadata": {},
   "outputs": [],
   "source": [
    "for movie_id in range(550,556):\n",
    "    r = requests.get('https://api.themoviedb.org/3/movie/{}?api_key={}'.format(movie_id, API_KEY))\n",
    "    response_list.append(r.json())"
   ]
  },
  {
   "cell_type": "code",
   "execution_count": null,
   "id": "021adadb",
   "metadata": {},
   "outputs": [],
   "source": [
    "df = pd.DataFrame.from_dict(response_list)\n",
    "genres_list = df['genres'].tolist()\n",
    "flat_list = [item for sublist in genres_list for item in sublist]"
   ]
  },
  {
   "cell_type": "code",
   "execution_count": null,
   "id": "5cada279",
   "metadata": {},
   "outputs": [],
   "source": [
    "result = []\n",
    "for l in genres_list:\n",
    "    r = []\n",
    "    for d in l:\n",
    "        r.append(d['name'])\n",
    "    result.append(r)\n",
    "df = df.assign(genres_all=result)"
   ]
  },
  {
   "cell_type": "code",
   "execution_count": null,
   "id": "6b33b495",
   "metadata": {},
   "outputs": [],
   "source": [
    "df_genres = pd.DataFrame.from_records(flat_list).drop_duplicates()"
   ]
  },
  {
   "cell_type": "code",
   "execution_count": null,
   "id": "197ed363",
   "metadata": {},
   "outputs": [],
   "source": [
    "df_columns = ['budget', 'id', 'imdb_id', 'original_title', 'release_date', 'revenue', 'runtime']\n",
    "df_genre_columns = df_genres['name'].to_list()\n",
    "df_columns.extend(df_genre_columns)\n",
    "s = df['genres_all'].explode()\n",
    "df = df.join(pd.crosstab(s.index, s))"
   ]
  },
  {
   "cell_type": "code",
   "execution_count": null,
   "id": "218fe528",
   "metadata": {},
   "outputs": [],
   "source": [
    "df['release_date'] = pd.to_datetime(df['release_date'])\n",
    "df['day'] = df['release_date'].dt.day\n",
    "df['month'] = df['release_date'].dt.month\n",
    "df['year'] = df['release_date'].dt.year\n",
    "df['day_of_week'] = df['release_date'].dt.day_name()\n",
    "df_time_columns = ['id', 'release_date', 'day', 'month', 'year', 'day_of_week']\n"
   ]
  },
  {
   "cell_type": "code",
   "execution_count": null,
   "id": "fd5e3944",
   "metadata": {},
   "outputs": [],
   "source": [
    "df[df_columns].to_csv('tmdb_movies.csv', index=False)\n",
    "df_genres.to_csv('tmdb_genres.csv', index=False)\n",
    "df[df_time_columns].to_csv('tmdb_datetimes.csv', index=False)"
   ]
  },
  {
   "cell_type": "markdown",
   "id": "1a7fcac6",
   "metadata": {},
   "source": [
    "---"
   ]
  },
  {
   "cell_type": "markdown",
   "id": "4f908abb",
   "metadata": {},
   "source": [
    "# Interator Functions fo Efficient Looping:\n",
    "\n",
    "https://github.com/CoreyMSchafer"
   ]
  },
  {
   "cell_type": "code",
   "execution_count": 1,
   "id": "1bd5798a",
   "metadata": {},
   "outputs": [],
   "source": [
    "import itertools"
   ]
  },
  {
   "cell_type": "code",
   "execution_count": 3,
   "id": "6119824d",
   "metadata": {},
   "outputs": [],
   "source": [
    "counter = itertools.count()"
   ]
  },
  {
   "cell_type": "code",
   "execution_count": 8,
   "id": "6cf28694",
   "metadata": {},
   "outputs": [],
   "source": [
    "data = [100, 200, 300, 400]\n",
    "\n",
    "daily_data = list(zip(itertools.count(),data))"
   ]
  },
  {
   "cell_type": "code",
   "execution_count": 9,
   "id": "4ef8916b",
   "metadata": {},
   "outputs": [
    {
     "data": {
      "text/plain": [
       "[(0, 100), (1, 200), (2, 300), (3, 400)]"
      ]
     },
     "execution_count": 9,
     "metadata": {},
     "output_type": "execute_result"
    }
   ],
   "source": [
    "daily_data"
   ]
  },
  {
   "cell_type": "code",
   "execution_count": 11,
   "id": "f78d7aef",
   "metadata": {},
   "outputs": [
    {
     "name": "stdout",
     "output_type": "stream",
     "text": [
      "0\n",
      "1\n",
      "2\n",
      "3\n",
      "4\n"
     ]
    }
   ],
   "source": [
    "counter = itertools.count()\n",
    "print(next(counter))\n",
    "print(next(counter))\n",
    "print(next(counter))\n",
    "print(next(counter))\n",
    "print(next(counter))"
   ]
  },
  {
   "cell_type": "code",
   "execution_count": 12,
   "id": "8c7bdf20",
   "metadata": {},
   "outputs": [
    {
     "name": "stdout",
     "output_type": "stream",
     "text": [
      "5\n",
      "10\n",
      "15\n",
      "20\n",
      "25\n"
     ]
    }
   ],
   "source": [
    "counter = itertools.count(start=5, step=5)\n",
    "print(next(counter))\n",
    "print(next(counter))\n",
    "print(next(counter))\n",
    "print(next(counter))\n",
    "print(next(counter))"
   ]
  },
  {
   "cell_type": "code",
   "execution_count": 13,
   "id": "634298fe",
   "metadata": {},
   "outputs": [
    {
     "name": "stdout",
     "output_type": "stream",
     "text": [
      "5\n",
      "2.5\n",
      "0.0\n",
      "-2.5\n",
      "-5.0\n"
     ]
    }
   ],
   "source": [
    "counter = itertools.count(start=5, step=-2.5)\n",
    "print(next(counter))\n",
    "print(next(counter))\n",
    "print(next(counter))\n",
    "print(next(counter))\n",
    "print(next(counter))"
   ]
  },
  {
   "cell_type": "code",
   "execution_count": 15,
   "id": "6185691a",
   "metadata": {},
   "outputs": [
    {
     "data": {
      "text/plain": [
       "[(0, 100), (1, 200), (2, 300), (3, 400)]"
      ]
     },
     "execution_count": 15,
     "metadata": {},
     "output_type": "execute_result"
    }
   ],
   "source": [
    "data = [100, 200, 300, 400]\n",
    "\n",
    "daily_data = list(zip(range(10),data))  # it stops when the data(the shortest in the list) ends\n",
    "daily_data"
   ]
  },
  {
   "cell_type": "code",
   "execution_count": 16,
   "id": "1510e8db",
   "metadata": {},
   "outputs": [
    {
     "data": {
      "text/plain": [
       "[(0, 100),\n",
       " (1, 200),\n",
       " (2, 300),\n",
       " (3, 400),\n",
       " (4, None),\n",
       " (5, None),\n",
       " (6, None),\n",
       " (7, None),\n",
       " (8, None),\n",
       " (9, None)]"
      ]
     },
     "execution_count": 16,
     "metadata": {},
     "output_type": "execute_result"
    }
   ],
   "source": [
    "data = [100, 200, 300, 400]\n",
    "\n",
    "daily_data = list(itertools.zip_longest(range(10),data))  # it stops when the data(the shortest in the list) ends\n",
    "daily_data"
   ]
  },
  {
   "cell_type": "code",
   "execution_count": 18,
   "id": "8cb75a72",
   "metadata": {},
   "outputs": [
    {
     "name": "stdout",
     "output_type": "stream",
     "text": [
      "1\n",
      "2\n",
      "3\n",
      "1\n",
      "2\n"
     ]
    }
   ],
   "source": [
    "counter = itertools.cycle([1,2,3])\n",
    "print(next(counter))\n",
    "print(next(counter))\n",
    "print(next(counter))\n",
    "print(next(counter))\n",
    "print(next(counter))"
   ]
  },
  {
   "cell_type": "code",
   "execution_count": 20,
   "id": "b3c19e54",
   "metadata": {},
   "outputs": [
    {
     "name": "stdout",
     "output_type": "stream",
     "text": [
      "On\n",
      "Off\n",
      "On\n",
      "Off\n",
      "On\n"
     ]
    }
   ],
   "source": [
    "counter = itertools.cycle(('On','Off'))\n",
    "print(next(counter))\n",
    "print(next(counter))\n",
    "print(next(counter))\n",
    "print(next(counter))\n",
    "print(next(counter))"
   ]
  },
  {
   "cell_type": "code",
   "execution_count": 22,
   "id": "1c3d79ec",
   "metadata": {},
   "outputs": [
    {
     "name": "stdout",
     "output_type": "stream",
     "text": [
      "('On', 'Off')\n",
      "('On', 'Off')\n",
      "('On', 'Off')\n"
     ]
    },
    {
     "ename": "StopIteration",
     "evalue": "",
     "output_type": "error",
     "traceback": [
      "\u001b[1;31m---------------------------------------------------------------------------\u001b[0m",
      "\u001b[1;31mStopIteration\u001b[0m                             Traceback (most recent call last)",
      "\u001b[1;32m~\\AppData\\Local\\Temp/ipykernel_33292/1019161146.py\u001b[0m in \u001b[0;36m<module>\u001b[1;34m\u001b[0m\n\u001b[0;32m      3\u001b[0m \u001b[0mprint\u001b[0m\u001b[1;33m(\u001b[0m\u001b[0mnext\u001b[0m\u001b[1;33m(\u001b[0m\u001b[0mcounter\u001b[0m\u001b[1;33m)\u001b[0m\u001b[1;33m)\u001b[0m\u001b[1;33m\u001b[0m\u001b[1;33m\u001b[0m\u001b[0m\n\u001b[0;32m      4\u001b[0m \u001b[0mprint\u001b[0m\u001b[1;33m(\u001b[0m\u001b[0mnext\u001b[0m\u001b[1;33m(\u001b[0m\u001b[0mcounter\u001b[0m\u001b[1;33m)\u001b[0m\u001b[1;33m)\u001b[0m\u001b[1;33m\u001b[0m\u001b[1;33m\u001b[0m\u001b[0m\n\u001b[1;32m----> 5\u001b[1;33m \u001b[0mprint\u001b[0m\u001b[1;33m(\u001b[0m\u001b[0mnext\u001b[0m\u001b[1;33m(\u001b[0m\u001b[0mcounter\u001b[0m\u001b[1;33m)\u001b[0m\u001b[1;33m)\u001b[0m\u001b[1;33m\u001b[0m\u001b[1;33m\u001b[0m\u001b[0m\n\u001b[0m\u001b[0;32m      6\u001b[0m \u001b[0mprint\u001b[0m\u001b[1;33m(\u001b[0m\u001b[0mnext\u001b[0m\u001b[1;33m(\u001b[0m\u001b[0mcounter\u001b[0m\u001b[1;33m)\u001b[0m\u001b[1;33m)\u001b[0m\u001b[1;33m\u001b[0m\u001b[1;33m\u001b[0m\u001b[0m\n",
      "\u001b[1;31mStopIteration\u001b[0m: "
     ]
    }
   ],
   "source": [
    "counter = itertools.repeat(('On','Off'), times=3)\n",
    "print(next(counter))\n",
    "print(next(counter))\n",
    "print(next(counter))\n",
    "print(next(counter))\n",
    "print(next(counter))"
   ]
  },
  {
   "cell_type": "code",
   "execution_count": 24,
   "id": "43967e5a",
   "metadata": {},
   "outputs": [
    {
     "name": "stdout",
     "output_type": "stream",
     "text": [
      "[0, 1, 4, 9, 16, 25, 36, 49, 64, 81]\n"
     ]
    }
   ],
   "source": [
    "counter = itertools.repeat(2, times=3)\n",
    "\n",
    "squares = map(pow, range(10), itertools.repeat(2))\n",
    "print(list(squares))"
   ]
  },
  {
   "cell_type": "code",
   "execution_count": 26,
   "id": "b6f53460",
   "metadata": {},
   "outputs": [
    {
     "name": "stdout",
     "output_type": "stream",
     "text": [
      "[0, 1, 4]\n"
     ]
    }
   ],
   "source": [
    "counter = itertools.repeat(2, times=3)\n",
    "\n",
    "squares = itertools.starmap(pow, [(0,2),(1,2),(2,2)])\n",
    "print(list(squares))"
   ]
  },
  {
   "cell_type": "code",
   "execution_count": 31,
   "id": "f53af237",
   "metadata": {},
   "outputs": [
    {
     "name": "stdout",
     "output_type": "stream",
     "text": [
      "Combination\n",
      "('a', 'b')\n",
      "('a', 'c')\n",
      "('a', 'd')\n",
      "('b', 'c')\n",
      "('b', 'd')\n",
      "('c', 'd')\n",
      "--------------------\n",
      "Permutation\n",
      "('a', 'b')\n",
      "('a', 'c')\n",
      "('a', 'd')\n",
      "('b', 'a')\n",
      "('b', 'c')\n",
      "('b', 'd')\n",
      "('c', 'a')\n",
      "('c', 'b')\n",
      "('c', 'd')\n",
      "('d', 'a')\n",
      "('d', 'b')\n",
      "('d', 'c')\n"
     ]
    }
   ],
   "source": [
    "letters = ['a','b','c','d']\n",
    "numbers = [0,1,2,3]\n",
    "names = ['Corey', 'Nicole']\n",
    "\n",
    "result = itertools.combinations(letters, 2)\n",
    "result2 = itertools.permutations(letters, 2)\n",
    "\n",
    "print('Combination')\n",
    "for item in result:\n",
    "    print(item)\n",
    "    \n",
    "print('--'*10)   \n",
    "print('Permutation')\n",
    "for item in result2:\n",
    "    print(item)"
   ]
  },
  {
   "cell_type": "code",
   "execution_count": 32,
   "id": "b6477ffd",
   "metadata": {
    "scrolled": true
   },
   "outputs": [
    {
     "name": "stdout",
     "output_type": "stream",
     "text": [
      "(0, 0, 0, 0)\n",
      "(0, 0, 0, 1)\n",
      "(0, 0, 0, 2)\n",
      "(0, 0, 0, 3)\n",
      "(0, 0, 1, 0)\n",
      "(0, 0, 1, 1)\n",
      "(0, 0, 1, 2)\n",
      "(0, 0, 1, 3)\n",
      "(0, 0, 2, 0)\n",
      "(0, 0, 2, 1)\n",
      "(0, 0, 2, 2)\n",
      "(0, 0, 2, 3)\n",
      "(0, 0, 3, 0)\n",
      "(0, 0, 3, 1)\n",
      "(0, 0, 3, 2)\n",
      "(0, 0, 3, 3)\n",
      "(0, 1, 0, 0)\n",
      "(0, 1, 0, 1)\n",
      "(0, 1, 0, 2)\n",
      "(0, 1, 0, 3)\n",
      "(0, 1, 1, 0)\n",
      "(0, 1, 1, 1)\n",
      "(0, 1, 1, 2)\n",
      "(0, 1, 1, 3)\n",
      "(0, 1, 2, 0)\n",
      "(0, 1, 2, 1)\n",
      "(0, 1, 2, 2)\n",
      "(0, 1, 2, 3)\n",
      "(0, 1, 3, 0)\n",
      "(0, 1, 3, 1)\n",
      "(0, 1, 3, 2)\n",
      "(0, 1, 3, 3)\n",
      "(0, 2, 0, 0)\n",
      "(0, 2, 0, 1)\n",
      "(0, 2, 0, 2)\n",
      "(0, 2, 0, 3)\n",
      "(0, 2, 1, 0)\n",
      "(0, 2, 1, 1)\n",
      "(0, 2, 1, 2)\n",
      "(0, 2, 1, 3)\n",
      "(0, 2, 2, 0)\n",
      "(0, 2, 2, 1)\n",
      "(0, 2, 2, 2)\n",
      "(0, 2, 2, 3)\n",
      "(0, 2, 3, 0)\n",
      "(0, 2, 3, 1)\n",
      "(0, 2, 3, 2)\n",
      "(0, 2, 3, 3)\n",
      "(0, 3, 0, 0)\n",
      "(0, 3, 0, 1)\n",
      "(0, 3, 0, 2)\n",
      "(0, 3, 0, 3)\n",
      "(0, 3, 1, 0)\n",
      "(0, 3, 1, 1)\n",
      "(0, 3, 1, 2)\n",
      "(0, 3, 1, 3)\n",
      "(0, 3, 2, 0)\n",
      "(0, 3, 2, 1)\n",
      "(0, 3, 2, 2)\n",
      "(0, 3, 2, 3)\n",
      "(0, 3, 3, 0)\n",
      "(0, 3, 3, 1)\n",
      "(0, 3, 3, 2)\n",
      "(0, 3, 3, 3)\n",
      "(1, 0, 0, 0)\n",
      "(1, 0, 0, 1)\n",
      "(1, 0, 0, 2)\n",
      "(1, 0, 0, 3)\n",
      "(1, 0, 1, 0)\n",
      "(1, 0, 1, 1)\n",
      "(1, 0, 1, 2)\n",
      "(1, 0, 1, 3)\n",
      "(1, 0, 2, 0)\n",
      "(1, 0, 2, 1)\n",
      "(1, 0, 2, 2)\n",
      "(1, 0, 2, 3)\n",
      "(1, 0, 3, 0)\n",
      "(1, 0, 3, 1)\n",
      "(1, 0, 3, 2)\n",
      "(1, 0, 3, 3)\n",
      "(1, 1, 0, 0)\n",
      "(1, 1, 0, 1)\n",
      "(1, 1, 0, 2)\n",
      "(1, 1, 0, 3)\n",
      "(1, 1, 1, 0)\n",
      "(1, 1, 1, 1)\n",
      "(1, 1, 1, 2)\n",
      "(1, 1, 1, 3)\n",
      "(1, 1, 2, 0)\n",
      "(1, 1, 2, 1)\n",
      "(1, 1, 2, 2)\n",
      "(1, 1, 2, 3)\n",
      "(1, 1, 3, 0)\n",
      "(1, 1, 3, 1)\n",
      "(1, 1, 3, 2)\n",
      "(1, 1, 3, 3)\n",
      "(1, 2, 0, 0)\n",
      "(1, 2, 0, 1)\n",
      "(1, 2, 0, 2)\n",
      "(1, 2, 0, 3)\n",
      "(1, 2, 1, 0)\n",
      "(1, 2, 1, 1)\n",
      "(1, 2, 1, 2)\n",
      "(1, 2, 1, 3)\n",
      "(1, 2, 2, 0)\n",
      "(1, 2, 2, 1)\n",
      "(1, 2, 2, 2)\n",
      "(1, 2, 2, 3)\n",
      "(1, 2, 3, 0)\n",
      "(1, 2, 3, 1)\n",
      "(1, 2, 3, 2)\n",
      "(1, 2, 3, 3)\n",
      "(1, 3, 0, 0)\n",
      "(1, 3, 0, 1)\n",
      "(1, 3, 0, 2)\n",
      "(1, 3, 0, 3)\n",
      "(1, 3, 1, 0)\n",
      "(1, 3, 1, 1)\n",
      "(1, 3, 1, 2)\n",
      "(1, 3, 1, 3)\n",
      "(1, 3, 2, 0)\n",
      "(1, 3, 2, 1)\n",
      "(1, 3, 2, 2)\n",
      "(1, 3, 2, 3)\n",
      "(1, 3, 3, 0)\n",
      "(1, 3, 3, 1)\n",
      "(1, 3, 3, 2)\n",
      "(1, 3, 3, 3)\n",
      "(2, 0, 0, 0)\n",
      "(2, 0, 0, 1)\n",
      "(2, 0, 0, 2)\n",
      "(2, 0, 0, 3)\n",
      "(2, 0, 1, 0)\n",
      "(2, 0, 1, 1)\n",
      "(2, 0, 1, 2)\n",
      "(2, 0, 1, 3)\n",
      "(2, 0, 2, 0)\n",
      "(2, 0, 2, 1)\n",
      "(2, 0, 2, 2)\n",
      "(2, 0, 2, 3)\n",
      "(2, 0, 3, 0)\n",
      "(2, 0, 3, 1)\n",
      "(2, 0, 3, 2)\n",
      "(2, 0, 3, 3)\n",
      "(2, 1, 0, 0)\n",
      "(2, 1, 0, 1)\n",
      "(2, 1, 0, 2)\n",
      "(2, 1, 0, 3)\n",
      "(2, 1, 1, 0)\n",
      "(2, 1, 1, 1)\n",
      "(2, 1, 1, 2)\n",
      "(2, 1, 1, 3)\n",
      "(2, 1, 2, 0)\n",
      "(2, 1, 2, 1)\n",
      "(2, 1, 2, 2)\n",
      "(2, 1, 2, 3)\n",
      "(2, 1, 3, 0)\n",
      "(2, 1, 3, 1)\n",
      "(2, 1, 3, 2)\n",
      "(2, 1, 3, 3)\n",
      "(2, 2, 0, 0)\n",
      "(2, 2, 0, 1)\n",
      "(2, 2, 0, 2)\n",
      "(2, 2, 0, 3)\n",
      "(2, 2, 1, 0)\n",
      "(2, 2, 1, 1)\n",
      "(2, 2, 1, 2)\n",
      "(2, 2, 1, 3)\n",
      "(2, 2, 2, 0)\n",
      "(2, 2, 2, 1)\n",
      "(2, 2, 2, 2)\n",
      "(2, 2, 2, 3)\n",
      "(2, 2, 3, 0)\n",
      "(2, 2, 3, 1)\n",
      "(2, 2, 3, 2)\n",
      "(2, 2, 3, 3)\n",
      "(2, 3, 0, 0)\n",
      "(2, 3, 0, 1)\n",
      "(2, 3, 0, 2)\n",
      "(2, 3, 0, 3)\n",
      "(2, 3, 1, 0)\n",
      "(2, 3, 1, 1)\n",
      "(2, 3, 1, 2)\n",
      "(2, 3, 1, 3)\n",
      "(2, 3, 2, 0)\n",
      "(2, 3, 2, 1)\n",
      "(2, 3, 2, 2)\n",
      "(2, 3, 2, 3)\n",
      "(2, 3, 3, 0)\n",
      "(2, 3, 3, 1)\n",
      "(2, 3, 3, 2)\n",
      "(2, 3, 3, 3)\n",
      "(3, 0, 0, 0)\n",
      "(3, 0, 0, 1)\n",
      "(3, 0, 0, 2)\n",
      "(3, 0, 0, 3)\n",
      "(3, 0, 1, 0)\n",
      "(3, 0, 1, 1)\n",
      "(3, 0, 1, 2)\n",
      "(3, 0, 1, 3)\n",
      "(3, 0, 2, 0)\n",
      "(3, 0, 2, 1)\n",
      "(3, 0, 2, 2)\n",
      "(3, 0, 2, 3)\n",
      "(3, 0, 3, 0)\n",
      "(3, 0, 3, 1)\n",
      "(3, 0, 3, 2)\n",
      "(3, 0, 3, 3)\n",
      "(3, 1, 0, 0)\n",
      "(3, 1, 0, 1)\n",
      "(3, 1, 0, 2)\n",
      "(3, 1, 0, 3)\n",
      "(3, 1, 1, 0)\n",
      "(3, 1, 1, 1)\n",
      "(3, 1, 1, 2)\n",
      "(3, 1, 1, 3)\n",
      "(3, 1, 2, 0)\n",
      "(3, 1, 2, 1)\n",
      "(3, 1, 2, 2)\n",
      "(3, 1, 2, 3)\n",
      "(3, 1, 3, 0)\n",
      "(3, 1, 3, 1)\n",
      "(3, 1, 3, 2)\n",
      "(3, 1, 3, 3)\n",
      "(3, 2, 0, 0)\n",
      "(3, 2, 0, 1)\n",
      "(3, 2, 0, 2)\n",
      "(3, 2, 0, 3)\n",
      "(3, 2, 1, 0)\n",
      "(3, 2, 1, 1)\n",
      "(3, 2, 1, 2)\n",
      "(3, 2, 1, 3)\n",
      "(3, 2, 2, 0)\n",
      "(3, 2, 2, 1)\n",
      "(3, 2, 2, 2)\n",
      "(3, 2, 2, 3)\n",
      "(3, 2, 3, 0)\n",
      "(3, 2, 3, 1)\n",
      "(3, 2, 3, 2)\n",
      "(3, 2, 3, 3)\n",
      "(3, 3, 0, 0)\n",
      "(3, 3, 0, 1)\n",
      "(3, 3, 0, 2)\n",
      "(3, 3, 0, 3)\n",
      "(3, 3, 1, 0)\n",
      "(3, 3, 1, 1)\n",
      "(3, 3, 1, 2)\n",
      "(3, 3, 1, 3)\n",
      "(3, 3, 2, 0)\n",
      "(3, 3, 2, 1)\n",
      "(3, 3, 2, 2)\n",
      "(3, 3, 2, 3)\n",
      "(3, 3, 3, 0)\n",
      "(3, 3, 3, 1)\n",
      "(3, 3, 3, 2)\n",
      "(3, 3, 3, 3)\n"
     ]
    }
   ],
   "source": [
    "# don't matter the sequence\n",
    "result3 = itertools.product(numbers, repeat=4)\n",
    "\n",
    "for i in result3:\n",
    "    print(i)"
   ]
  },
  {
   "cell_type": "code",
   "execution_count": 33,
   "id": "e9248fb7",
   "metadata": {},
   "outputs": [
    {
     "name": "stdout",
     "output_type": "stream",
     "text": [
      "(0, 0, 0, 0)\n",
      "(0, 0, 0, 1)\n",
      "(0, 0, 0, 2)\n",
      "(0, 0, 0, 3)\n",
      "(0, 0, 1, 1)\n",
      "(0, 0, 1, 2)\n",
      "(0, 0, 1, 3)\n",
      "(0, 0, 2, 2)\n",
      "(0, 0, 2, 3)\n",
      "(0, 0, 3, 3)\n",
      "(0, 1, 1, 1)\n",
      "(0, 1, 1, 2)\n",
      "(0, 1, 1, 3)\n",
      "(0, 1, 2, 2)\n",
      "(0, 1, 2, 3)\n",
      "(0, 1, 3, 3)\n",
      "(0, 2, 2, 2)\n",
      "(0, 2, 2, 3)\n",
      "(0, 2, 3, 3)\n",
      "(0, 3, 3, 3)\n",
      "(1, 1, 1, 1)\n",
      "(1, 1, 1, 2)\n",
      "(1, 1, 1, 3)\n",
      "(1, 1, 2, 2)\n",
      "(1, 1, 2, 3)\n",
      "(1, 1, 3, 3)\n",
      "(1, 2, 2, 2)\n",
      "(1, 2, 2, 3)\n",
      "(1, 2, 3, 3)\n",
      "(1, 3, 3, 3)\n",
      "(2, 2, 2, 2)\n",
      "(2, 2, 2, 3)\n",
      "(2, 2, 3, 3)\n",
      "(2, 3, 3, 3)\n",
      "(3, 3, 3, 3)\n"
     ]
    }
   ],
   "source": [
    "# matter the sequence\n",
    "result4 = itertools.combinations_with_replacement(numbers, 4)\n",
    "\n",
    "for i in result4:\n",
    "    print(i)"
   ]
  },
  {
   "cell_type": "code",
   "execution_count": 36,
   "id": "ed8e02a4",
   "metadata": {},
   "outputs": [
    {
     "name": "stdout",
     "output_type": "stream",
     "text": [
      "a\n",
      "b\n",
      "c\n",
      "d\n",
      "0\n",
      "1\n",
      "2\n",
      "3\n",
      "Corey\n",
      "Nicole\n"
     ]
    }
   ],
   "source": [
    "#combined = \n",
    "combined = itertools.chain(letters, numbers , names)\n",
    "\n",
    "for i in combined:\n",
    "    print(i)"
   ]
  },
  {
   "cell_type": "code",
   "execution_count": 38,
   "id": "7984d029",
   "metadata": {},
   "outputs": [
    {
     "name": "stdout",
     "output_type": "stream",
     "text": [
      "1\n",
      "3\n"
     ]
    }
   ],
   "source": [
    "result5 = itertools.islice(range(10), 1, 5, 2)  # start in 1 , stop in 5 step 2 by 2 \n",
    "\n",
    "for i in result5:\n",
    "    print(i)"
   ]
  },
  {
   "cell_type": "code",
   "execution_count": 44,
   "id": "d3d6bc33",
   "metadata": {},
   "outputs": [
    {
     "name": "stdout",
     "output_type": "stream",
     "text": [
      "Date: 2018-11-08\n",
      "\n",
      "Author: Corey\n",
      "\n",
      "Description: This is a sample log file\n",
      "\n"
     ]
    }
   ],
   "source": [
    "with open('test.log.txt', 'r')as f:\n",
    "    header = itertools.islice(f, 3)\n",
    "    \n",
    "    for line in header:\n",
    "        print(line)"
   ]
  },
  {
   "cell_type": "code",
   "execution_count": 45,
   "id": "f3c278e0",
   "metadata": {},
   "outputs": [
    {
     "name": "stdout",
     "output_type": "stream",
     "text": [
      "Date: 2018-11-08\n",
      "Author: Corey\n",
      "Description: This is a sample log file\n"
     ]
    }
   ],
   "source": [
    "with open('test.log.txt', 'r')as f:\n",
    "    header = itertools.islice(f, 3)\n",
    "    \n",
    "    for line in header:\n",
    "        print(line, end='')"
   ]
  },
  {
   "cell_type": "code",
   "execution_count": 46,
   "id": "34dc8932",
   "metadata": {},
   "outputs": [
    {
     "name": "stdout",
     "output_type": "stream",
     "text": [
      "a\n",
      "b\n",
      "d\n"
     ]
    }
   ],
   "source": [
    "selectors = [True, True, False, True]\n",
    "\n",
    "result = itertools.compress(letters, selectors)\n",
    "\n",
    "for item in result:\n",
    "    print(item)"
   ]
  },
  {
   "cell_type": "code",
   "execution_count": 48,
   "id": "2a44f9ae",
   "metadata": {},
   "outputs": [
    {
     "name": "stdout",
     "output_type": "stream",
     "text": [
      "0\n",
      "1\n"
     ]
    }
   ],
   "source": [
    "def lt_2(n):\n",
    "    if n<2:\n",
    "        return True\n",
    "    return False\n",
    "    \n",
    "result = filter(lt_2, numbers)\n",
    "for item in result:\n",
    "    print(item)"
   ]
  },
  {
   "cell_type": "code",
   "execution_count": 49,
   "id": "975e39d4",
   "metadata": {},
   "outputs": [
    {
     "name": "stdout",
     "output_type": "stream",
     "text": [
      "2\n",
      "3\n"
     ]
    }
   ],
   "source": [
    "def lt_2(n):\n",
    "    if n<2:\n",
    "        return True\n",
    "    return False\n",
    "    \n",
    "result = itertools.filterfalse(lt_2, numbers)\n",
    "for item in result:\n",
    "    print(item)"
   ]
  },
  {
   "cell_type": "code",
   "execution_count": 52,
   "id": "2036943d",
   "metadata": {},
   "outputs": [
    {
     "name": "stdout",
     "output_type": "stream",
     "text": [
      "2\n",
      "3\n",
      "2\n",
      "1\n",
      "0\n"
     ]
    }
   ],
   "source": [
    "numbers = [0,1,2,3,2,1,0]\n",
    "\n",
    "selectors = [True, True, False, True]\n",
    "result = itertools.dropwhile(lt_2, numbers) # drop values from an iterator till it returns True, then return the rest, forgetting the filter\n",
    "\n",
    "for item in result:\n",
    "    print(item)"
   ]
  },
  {
   "cell_type": "code",
   "execution_count": 53,
   "id": "35793266",
   "metadata": {},
   "outputs": [
    {
     "name": "stdout",
     "output_type": "stream",
     "text": [
      "0\n",
      "1\n"
     ]
    }
   ],
   "source": [
    "numbers = [0,1,2,3,2,1,0]\n",
    "\n",
    "selectors = [True, True, False, True]\n",
    "result = itertools.takewhile(lt_2, numbers) # the oposite of above\n",
    "\n",
    "for item in result:\n",
    "    print(item)"
   ]
  },
  {
   "cell_type": "code",
   "execution_count": 54,
   "id": "1783266a",
   "metadata": {},
   "outputs": [
    {
     "name": "stdout",
     "output_type": "stream",
     "text": [
      "0\n",
      "1\n",
      "3\n",
      "6\n",
      "8\n",
      "9\n",
      "9\n"
     ]
    }
   ],
   "source": [
    "result = itertools.accumulate(numbers) \n",
    "for item in result:\n",
    "    print(item)"
   ]
  },
  {
   "cell_type": "code",
   "execution_count": 55,
   "id": "1764580a",
   "metadata": {},
   "outputs": [],
   "source": [
    "import operator"
   ]
  },
  {
   "cell_type": "code",
   "execution_count": 56,
   "id": "99b99128",
   "metadata": {},
   "outputs": [
    {
     "name": "stdout",
     "output_type": "stream",
     "text": [
      "1\n",
      "2\n",
      "6\n",
      "12\n",
      "12\n",
      "0\n"
     ]
    }
   ],
   "source": [
    "numbers = [1,2,3,2,1,0]\n",
    "\n",
    "result = itertools.accumulate(numbers, operator.mul) \n",
    "for item in result:\n",
    "    print(item)"
   ]
  },
  {
   "cell_type": "code",
   "execution_count": 70,
   "id": "6a92e6b3",
   "metadata": {},
   "outputs": [],
   "source": [
    "def get_state(person):\n",
    "    return person['state']\n",
    "\n",
    "people = [\n",
    "    {\n",
    "        'name': 'John Doe',\n",
    "        'city': 'Gotham',\n",
    "        'state': 'NY'\n",
    "    },\n",
    "    {\n",
    "        'name': 'Jane Doe',\n",
    "        'city': 'Kings Landing',\n",
    "        'state': 'NY'\n",
    "    },\n",
    "    {\n",
    "        'name': 'Corey Schafer',\n",
    "        'city': 'Boulder',\n",
    "        'state': 'CO'\n",
    "    },\n",
    "    {\n",
    "        'name': 'Al Einstein',\n",
    "        'city': 'Denver',\n",
    "        'state': 'CO'\n",
    "    },\n",
    "    {\n",
    "        'name': 'John Henry',\n",
    "        'city': 'Hinton',\n",
    "        'state': 'WV'\n",
    "    },\n",
    "    {\n",
    "        'name': 'Randy Moss',\n",
    "        'city': 'Rand',\n",
    "        'state': 'WV'\n",
    "    },\n",
    "    {\n",
    "        'name': 'Nicole K',\n",
    "        'city': 'Asheville',\n",
    "        'state': 'NC'\n",
    "    },\n",
    "    {\n",
    "        'name': 'Jim Doe',\n",
    "        'city': 'Charlotte',\n",
    "        'state': 'NC'\n",
    "    },\n",
    "    {\n",
    "        'name': 'Jane Taylor',\n",
    "        'city': 'Faketown',\n",
    "        'state': 'NC'\n",
    "    }\n",
    "]\n",
    "\n",
    "person_group = itertools.groupby(people, get_state)\n",
    "\n"
   ]
  },
  {
   "cell_type": "code",
   "execution_count": 62,
   "id": "9e6a165b",
   "metadata": {},
   "outputs": [
    {
     "name": "stdout",
     "output_type": "stream",
     "text": [
      "NY\n",
      "{'name': 'John Doe', 'city': 'Gotham', 'state': 'NY'}\n",
      "{'name': 'Jane Doe', 'city': 'Kings Landing', 'state': 'NY'}\n",
      "\n",
      "CO\n",
      "{'name': 'Corey Schafer', 'city': 'Boulder', 'state': 'CO'}\n",
      "{'name': 'Al Einstein', 'city': 'Denver', 'state': 'CO'}\n",
      "\n",
      "WV\n",
      "{'name': 'John Henry', 'city': 'Hinton', 'state': 'WV'}\n",
      "{'name': 'Randy Moss', 'city': 'Rand', 'state': 'WV'}\n",
      "\n",
      "NC\n",
      "{'name': 'Nicole K', 'city': 'Asheville', 'state': 'NC'}\n",
      "{'name': 'Jim Doe', 'city': 'Charlotte', 'state': 'NC'}\n",
      "{'name': 'Jane Taylor', 'city': 'Faketown', 'state': 'NC'}\n",
      "\n"
     ]
    }
   ],
   "source": [
    "for key, group in person_group:\n",
    "    print(key)\n",
    "    for person in group:\n",
    "        print(person)\n",
    "    print()"
   ]
  },
  {
   "cell_type": "code",
   "execution_count": 64,
   "id": "d672231c",
   "metadata": {},
   "outputs": [
    {
     "name": "stdout",
     "output_type": "stream",
     "text": [
      "NY 2\n",
      "CO 2\n",
      "WV 2\n",
      "NC 3\n"
     ]
    }
   ],
   "source": [
    "for key, group in person_group:\n",
    "    print(key , len(list(group)))\n"
   ]
  },
  {
   "cell_type": "code",
   "execution_count": 71,
   "id": "16e13a19",
   "metadata": {},
   "outputs": [
    {
     "name": "stdout",
     "output_type": "stream",
     "text": [
      "NY [{'name': 'John Doe', 'city': 'Gotham', 'state': 'NY'}, {'name': 'Jane Doe', 'city': 'Kings Landing', 'state': 'NY'}]\n",
      "CO [{'name': 'Corey Schafer', 'city': 'Boulder', 'state': 'CO'}, {'name': 'Al Einstein', 'city': 'Denver', 'state': 'CO'}]\n",
      "WV [{'name': 'John Henry', 'city': 'Hinton', 'state': 'WV'}, {'name': 'Randy Moss', 'city': 'Rand', 'state': 'WV'}]\n",
      "NC [{'name': 'Nicole K', 'city': 'Asheville', 'state': 'NC'}, {'name': 'Jim Doe', 'city': 'Charlotte', 'state': 'NC'}, {'name': 'Jane Taylor', 'city': 'Faketown', 'state': 'NC'}]\n"
     ]
    }
   ],
   "source": [
    "copy1, copy2 = itertools.tee(person_group)\n",
    "\n",
    "for copy1, copy2 in person_group:\n",
    "    print(copy1, list(copy2))"
   ]
  },
  {
   "cell_type": "markdown",
   "id": "8b69c1bd",
   "metadata": {},
   "source": [
    "---"
   ]
  },
  {
   "cell_type": "code",
   "execution_count": 1,
   "id": "bf006f35",
   "metadata": {},
   "outputs": [
    {
     "data": {
      "text/plain": [
       "3"
      ]
     },
     "execution_count": 1,
     "metadata": {},
     "output_type": "execute_result"
    }
   ],
   "source": [
    "palavra = 'Clarice'\n",
    "palavra.find('r')  #retorna a posição"
   ]
  },
  {
   "cell_type": "code",
   "execution_count": 2,
   "id": "7749cdad",
   "metadata": {},
   "outputs": [
    {
     "data": {
      "text/plain": [
       "True"
      ]
     },
     "execution_count": 2,
     "metadata": {},
     "output_type": "execute_result"
    }
   ],
   "source": [
    "palavra.startswith('C')"
   ]
  },
  {
   "cell_type": "code",
   "execution_count": 3,
   "id": "3ac1f68e",
   "metadata": {},
   "outputs": [
    {
     "data": {
      "text/plain": [
       "False"
      ]
     },
     "execution_count": 3,
     "metadata": {},
     "output_type": "execute_result"
    }
   ],
   "source": [
    "palavra.endswith('a')"
   ]
  },
  {
   "cell_type": "markdown",
   "id": "31061658",
   "metadata": {},
   "source": [
    "---"
   ]
  },
  {
   "cell_type": "markdown",
   "id": "59cd9d02",
   "metadata": {},
   "source": [
    "https://www.kaggle.com/andrej0marinchenko/data-sciencetutorial-for-beginners-predict-fs/data"
   ]
  },
  {
   "cell_type": "code",
   "execution_count": 13,
   "id": "fbd9e535",
   "metadata": {},
   "outputs": [],
   "source": [
    "#nested function\n",
    "def square(x = 2,y = 3):\n",
    "    \"\"\" return square of value \"\"\"\n",
    "    def add(x = x,y = y):\n",
    "        \"\"\" add two local variable \"\"\"     \n",
    "        x = x\n",
    "        y = y\n",
    "        z = x + y\n",
    "        return z\n",
    "    return add(x = x,y = y)**2   "
   ]
  },
  {
   "cell_type": "code",
   "execution_count": 16,
   "id": "4f7fa3fe",
   "metadata": {},
   "outputs": [
    {
     "data": {
      "text/plain": [
       "9"
      ]
     },
     "execution_count": 16,
     "metadata": {},
     "output_type": "execute_result"
    }
   ],
   "source": [
    "square(x=1,y=2)"
   ]
  },
  {
   "cell_type": "markdown",
   "id": "ddadd539",
   "metadata": {},
   "source": [
    "DEFAULT and FLEXIBLE ARGUMENTS\n",
    "\n",
    "\n",
    "* Default argument example:\n",
    "\n",
    "def f(a, b=1):\n",
    "  ` b = 1 is default argument`\n",
    "  \n",
    "* Flexible argument example:\n",
    "\n",
    "def f(*args):\n",
    " ` *args can be one or more`\n",
    " \n",
    "* def f(** kwargs)\n",
    "\n",
    " ` **kwargs is a dictionary`"
   ]
  },
  {
   "cell_type": "code",
   "execution_count": 17,
   "id": "c55f75b3",
   "metadata": {},
   "outputs": [],
   "source": [
    "# flexible arguments *args\n",
    "def f(*args):\n",
    "    for i in args:\n",
    "        print(i)"
   ]
  },
  {
   "cell_type": "code",
   "execution_count": 20,
   "id": "30487922",
   "metadata": {},
   "outputs": [
    {
     "name": "stdout",
     "output_type": "stream",
     "text": [
      "1\n",
      "\n",
      "1\n",
      "2\n",
      "3\n",
      "4\n"
     ]
    }
   ],
   "source": [
    "f(1)\n",
    "print('')\n",
    "f(1,2,3,4)"
   ]
  },
  {
   "cell_type": "code",
   "execution_count": 21,
   "id": "3ca7cc7e",
   "metadata": {},
   "outputs": [],
   "source": [
    "# flexible arguments **kwargs that is dictionary\n",
    "def f(**kwargs):\n",
    "    \"\"\" print key and value of dictionary\"\"\"\n",
    "    for key, value in kwargs.items():  # If you do not understand this part turn for loop part and look at dictionary in for loop\n",
    "        print(key, \" \", value)\n"
   ]
  },
  {
   "cell_type": "code",
   "execution_count": 22,
   "id": "81c41fff",
   "metadata": {},
   "outputs": [
    {
     "name": "stdout",
     "output_type": "stream",
     "text": [
      "country   spain\n",
      "capital   madrid\n",
      "population   123456\n"
     ]
    }
   ],
   "source": [
    "f(country = 'spain', capital = 'madrid', population = 123456)"
   ]
  },
  {
   "cell_type": "code",
   "execution_count": 23,
   "id": "2ea3765d",
   "metadata": {},
   "outputs": [
    {
     "name": "stdout",
     "output_type": "stream",
     "text": [
      "16\n",
      "6\n"
     ]
    }
   ],
   "source": [
    "# lambda function\n",
    "square = lambda x: x**2     # where x is name of argument\n",
    "print(square(4))\n",
    "tot = lambda x,y,z: x+y+z   # where x,y,z are names of arguments\n",
    "print(tot(1,2,3))"
   ]
  },
  {
   "cell_type": "markdown",
   "id": "fd31a18c",
   "metadata": {},
   "source": [
    "ANONYMOUS FUNCTİON\n",
    "Like lambda function but it can take more than one arguments.\n",
    "\n",
    "* map(func,seq) : applies a function to all the items in a list"
   ]
  },
  {
   "cell_type": "code",
   "execution_count": 24,
   "id": "54abbad3",
   "metadata": {},
   "outputs": [
    {
     "name": "stdout",
     "output_type": "stream",
     "text": [
      "[1, 4, 9]\n"
     ]
    }
   ],
   "source": [
    "number_list = [1,2,3]\n",
    "y = map(lambda x:x**2,number_list)\n",
    "print(list(y))"
   ]
  },
  {
   "cell_type": "markdown",
   "id": "b743059b",
   "metadata": {},
   "source": [
    "### ITERATORS\n",
    "* iterable is an object that can return an iterator\n",
    "* iterable: an object with an associated iter() method\n",
    "\n",
    "example: list, strings and dictionaries\n",
    "\n",
    "* iterator: produces next value with next() method"
   ]
  },
  {
   "cell_type": "code",
   "execution_count": 25,
   "id": "663bb22f",
   "metadata": {},
   "outputs": [
    {
     "name": "stdout",
     "output_type": "stream",
     "text": [
      "r\n",
      "o n a l d o\n"
     ]
    }
   ],
   "source": [
    "# iteration example\n",
    "name = \"ronaldo\"\n",
    "it = iter(name)\n",
    "print(next(it))    # print next iteration\n",
    "print(*it)         # print remaining iteration"
   ]
  },
  {
   "cell_type": "code",
   "execution_count": 26,
   "id": "39e2af82",
   "metadata": {},
   "outputs": [
    {
     "name": "stdout",
     "output_type": "stream",
     "text": [
      "<zip object at 0x00000204234E4800>\n",
      "[(1, 5), (2, 6), (3, 7), (4, 8)]\n"
     ]
    }
   ],
   "source": [
    "# zip example\n",
    "list1 = [1,2,3,4]\n",
    "list2 = [5,6,7,8]\n",
    "z = zip(list1,list2)\n",
    "print(z)\n",
    "z_list = list(z)\n",
    "print(z_list)"
   ]
  },
  {
   "cell_type": "code",
   "execution_count": 27,
   "id": "6f467e06",
   "metadata": {},
   "outputs": [
    {
     "name": "stdout",
     "output_type": "stream",
     "text": [
      "(1, 2, 3, 4)\n",
      "(5, 6, 7, 8)\n",
      "<class 'tuple'>\n"
     ]
    }
   ],
   "source": [
    "un_zip = zip(*z_list)\n",
    "un_list1,un_list2 = list(un_zip) # unzip returns tuple\n",
    "print(un_list1)\n",
    "print(un_list2)\n",
    "print(type(un_list2))"
   ]
  },
  {
   "cell_type": "markdown",
   "id": "4eb7408c",
   "metadata": {},
   "source": [
    "### LIST COMPREHENSİON\n",
    "***One of the most important topic of this kernel***\n",
    "\n",
    "We use list comprehension for data analysis often.\n",
    "\n",
    "list comprehension: collapse for loops for building lists into a single line\n",
    "\n",
    "Ex: num1 = [1,2,3] and we want to make it num2 = [2,3,4]. This can be done with for loop. However it is unnecessarily long. We can make it one line code that is list comprehension."
   ]
  },
  {
   "cell_type": "code",
   "execution_count": 28,
   "id": "047fad26",
   "metadata": {},
   "outputs": [
    {
     "name": "stdout",
     "output_type": "stream",
     "text": [
      "[2, 3, 4]\n"
     ]
    }
   ],
   "source": [
    "# Example of list comprehension\n",
    "num1 = [1,2,3]\n",
    " \n",
    "# result for i in interable\n",
    "num2 = [i + 1 for i in num1 ]\n",
    "print(num2)"
   ]
  },
  {
   "cell_type": "markdown",
   "id": "613a355f",
   "metadata": {},
   "source": [
    "[i + 1 for i in num1 ]: list of comprehension\n",
    "\n",
    "i +1: list comprehension syntax\n",
    "\n",
    "for i in num1: for loop syntax\n",
    "\n",
    "i: iterator\n",
    "\n",
    "num1: iterable object"
   ]
  },
  {
   "cell_type": "code",
   "execution_count": 29,
   "id": "b1852a13",
   "metadata": {},
   "outputs": [
    {
     "name": "stdout",
     "output_type": "stream",
     "text": [
      "[0, 100, 20]\n"
     ]
    }
   ],
   "source": [
    "# Conditionals on iterable\n",
    "num1 = [5,10,15]\n",
    "\n",
    "# (do this) if condition else (do this) if condition else (do this) for i in list\n",
    "num2 = [i**2 if i == 10 else i-5 if i < 7 else i+5 for i in num1]\n",
    "print(num2)"
   ]
  },
  {
   "cell_type": "code",
   "execution_count": null,
   "id": "0e3c4a97",
   "metadata": {},
   "outputs": [],
   "source": [
    "# lets return csv and make one more list comprehension example\n",
    "# lets classify whether 1 column have high or low items.\n",
    "threshold = sum(data.item_price)/len(data.item_price)\n",
    "data[\"item_price_level\"] = [\"high\" if i > threshold else \"low\" for i in data.item_price]\n",
    "data.loc[:10,[\"item_price_level\",\"item_price\"]] # we will learn loc more detailed later           "
   ]
  },
  {
   "cell_type": "markdown",
   "id": "2aa3dc76",
   "metadata": {},
   "source": [
    "---"
   ]
  },
  {
   "cell_type": "code",
   "execution_count": 30,
   "id": "a8abd747",
   "metadata": {},
   "outputs": [],
   "source": [
    "lista = [11122233344, 22233344455, 33344455566]"
   ]
  },
  {
   "cell_type": "code",
   "execution_count": 31,
   "id": "f2a8c22e",
   "metadata": {},
   "outputs": [],
   "source": [
    "lista.append(11122233344) #funciona!"
   ]
  },
  {
   "cell_type": "markdown",
   "id": "4f6624be",
   "metadata": {},
   "source": [
    "## Conhecendo o set\n",
    "\n",
    "E agora? Será que o Python não oferece alguma coleção onde não podem existir elementos duplicados? Claro que existe uma coleção com esse propósito e ela se chama set.\n",
    "\n",
    "Veja o mesmo exemplo, mas agora inicializando um set:"
   ]
  },
  {
   "cell_type": "code",
   "execution_count": 32,
   "id": "ff773bd9",
   "metadata": {},
   "outputs": [],
   "source": [
    "colecao = {11122233344, 22233344455, 33344455566}"
   ]
  },
  {
   "cell_type": "code",
   "execution_count": 33,
   "id": "5d75d416",
   "metadata": {},
   "outputs": [],
   "source": [
    "colecao.add(44455566677) #vai adicionar pois não existe ainda"
   ]
  },
  {
   "cell_type": "code",
   "execution_count": 34,
   "id": "bf217f51",
   "metadata": {},
   "outputs": [
    {
     "data": {
      "text/plain": [
       "{11122233344, 22233344455, 33344455566, 44455566677}"
      ]
     },
     "execution_count": 34,
     "metadata": {},
     "output_type": "execute_result"
    }
   ],
   "source": [
    "colecao"
   ]
  },
  {
   "cell_type": "code",
   "execution_count": 35,
   "id": "4a3e4099",
   "metadata": {},
   "outputs": [],
   "source": [
    "colecao.add(11122233344) #nao vai adicionar pois este CPF já existe!"
   ]
  },
  {
   "cell_type": "code",
   "execution_count": 36,
   "id": "4fc2f810",
   "metadata": {},
   "outputs": [
    {
     "data": {
      "text/plain": [
       "{11122233344, 22233344455, 33344455566, 44455566677}"
      ]
     },
     "execution_count": 36,
     "metadata": {},
     "output_type": "execute_result"
    }
   ],
   "source": [
    "colecao"
   ]
  },
  {
   "cell_type": "markdown",
   "id": "70c45b04",
   "metadata": {},
   "source": [
    "set não possui um índice\n",
    "É importante notar que o set não é uma sequência, pois não tem um índice. O código abaixo não funciona:"
   ]
  },
  {
   "cell_type": "code",
   "execution_count": 39,
   "id": "5afe4ac7",
   "metadata": {},
   "outputs": [
    {
     "ename": "TypeError",
     "evalue": "'set' object is not subscriptable",
     "output_type": "error",
     "traceback": [
      "\u001b[1;31m---------------------------------------------------------------------------\u001b[0m",
      "\u001b[1;31mTypeError\u001b[0m                                 Traceback (most recent call last)",
      "\u001b[1;32m~\\AppData\\Local\\Temp/ipykernel_21292/2118925198.py\u001b[0m in \u001b[0;36m<module>\u001b[1;34m\u001b[0m\n\u001b[1;32m----> 1\u001b[1;33m \u001b[0mcolecao\u001b[0m\u001b[1;33m[\u001b[0m\u001b[1;36m0\u001b[0m\u001b[1;33m]\u001b[0m\u001b[1;33m\u001b[0m\u001b[1;33m\u001b[0m\u001b[0m\n\u001b[0m",
      "\u001b[1;31mTypeError\u001b[0m: 'set' object is not subscriptable"
     ]
    }
   ],
   "source": [
    "colecao[0]"
   ]
  },
  {
   "cell_type": "code",
   "execution_count": 40,
   "id": "e66800fb",
   "metadata": {},
   "outputs": [
    {
     "name": "stdout",
     "output_type": "stream",
     "text": [
      "11122233344\n",
      "44455566677\n",
      "33344455566\n",
      "22233344455\n"
     ]
    }
   ],
   "source": [
    "for cpf in colecao:\n",
    "     print(cpf)"
   ]
  },
  {
   "cell_type": "markdown",
   "id": "a638aacc",
   "metadata": {},
   "source": [
    "### Resumindo\n",
    "Um set é uma coleção não ordenada de elementos. Cada elemento é único, isso significa que não existem elementos duplicados dentro do set."
   ]
  },
  {
   "cell_type": "markdown",
   "id": "16b3b020",
   "metadata": {},
   "source": [
    "---"
   ]
  },
  {
   "cell_type": "code",
   "execution_count": 41,
   "id": "e430428d",
   "metadata": {},
   "outputs": [
    {
     "data": {
      "text/plain": [
       "[('Nico', 39), ('Flavio', 37), ('Marcos', 30)]"
      ]
     },
     "execution_count": 41,
     "metadata": {},
     "output_type": "execute_result"
    }
   ],
   "source": [
    "pessoa1 = (\"Nico\", 39)\n",
    "pessoa2 = (\"Flavio\", 37)\n",
    "pessoa3 = (\"Marcos\", 30)\n",
    "\n",
    "instrutores = [pessoa1, pessoa2, pessoa3]\n",
    "instrutores"
   ]
  },
  {
   "cell_type": "code",
   "execution_count": 42,
   "id": "0ff6b774",
   "metadata": {},
   "outputs": [
    {
     "data": {
      "text/plain": [
       "37"
      ]
     },
     "execution_count": 42,
     "metadata": {},
     "output_type": "execute_result"
    }
   ],
   "source": [
    "instrutores[1][1]\n",
    "37"
   ]
  },
  {
   "cell_type": "code",
   "execution_count": 44,
   "id": "3055b3a8",
   "metadata": {},
   "outputs": [
    {
     "ename": "TypeError",
     "evalue": "list indices must be integers or slices, not str",
     "output_type": "error",
     "traceback": [
      "\u001b[1;31m---------------------------------------------------------------------------\u001b[0m",
      "\u001b[1;31mTypeError\u001b[0m                                 Traceback (most recent call last)",
      "\u001b[1;32m~\\AppData\\Local\\Temp/ipykernel_21292/3836611010.py\u001b[0m in \u001b[0;36m<module>\u001b[1;34m\u001b[0m\n\u001b[1;32m----> 1\u001b[1;33m \u001b[0minstrutores\u001b[0m\u001b[1;33m[\u001b[0m\u001b[1;34m'Flavio'\u001b[0m\u001b[1;33m]\u001b[0m\u001b[1;33m\u001b[0m\u001b[1;33m\u001b[0m\u001b[0m\n\u001b[0m",
      "\u001b[1;31mTypeError\u001b[0m: list indices must be integers or slices, not str"
     ]
    }
   ],
   "source": [
    "instrutores['Flavio']"
   ]
  },
  {
   "cell_type": "markdown",
   "id": "3f3993db",
   "metadata": {},
   "source": [
    "Só que isso não vai funcionar com lista, nem com tuple, nem combinando os dois :( É preciso usar uma nova estrutura de dados, o Dictionary!\n",
    "\n",
    "\n",
    "### Conhecendo o dictionary,\n",
    "\n",
    "Para criar um dicionário devemos inicializar os instrutores de um modo um pouco diferente. Veja o código:"
   ]
  },
  {
   "cell_type": "code",
   "execution_count": 45,
   "id": "ba16b22c",
   "metadata": {},
   "outputs": [],
   "source": [
    "instrutores = {'Nico' : 39, 'Flavio': 37, 'Marcos' : 30}"
   ]
  },
  {
   "cell_type": "code",
   "execution_count": 46,
   "id": "18ccad23",
   "metadata": {},
   "outputs": [
    {
     "data": {
      "text/plain": [
       "37"
      ]
     },
     "execution_count": 46,
     "metadata": {},
     "output_type": "execute_result"
    }
   ],
   "source": [
    "instrutores['Flavio']"
   ]
  },
  {
   "cell_type": "code",
   "execution_count": 47,
   "id": "fbfbfdae",
   "metadata": {},
   "outputs": [
    {
     "ename": "NameError",
     "evalue": "name 'df' is not defined",
     "output_type": "error",
     "traceback": [
      "\u001b[1;31m---------------------------------------------------------------------------\u001b[0m",
      "\u001b[1;31mNameError\u001b[0m                                 Traceback (most recent call last)",
      "\u001b[1;32m~\\AppData\\Local\\Temp/ipykernel_21292/1396537375.py\u001b[0m in \u001b[0;36m<module>\u001b[1;34m\u001b[0m\n\u001b[1;32m----> 1\u001b[1;33m \u001b[0mdf\u001b[0m\u001b[1;33m\u001b[0m\u001b[1;33m\u001b[0m\u001b[0m\n\u001b[0m",
      "\u001b[1;31mNameError\u001b[0m: name 'df' is not defined"
     ]
    }
   ],
   "source": [
    "d"
   ]
  },
  {
   "cell_type": "code",
   "execution_count": null,
   "id": "efff6873",
   "metadata": {},
   "outputs": [],
   "source": []
  }
 ],
 "metadata": {
  "kernelspec": {
   "display_name": "Python 3 (ipykernel)",
   "language": "python",
   "name": "python3"
  },
  "language_info": {
   "codemirror_mode": {
    "name": "ipython",
    "version": 3
   },
   "file_extension": ".py",
   "mimetype": "text/x-python",
   "name": "python",
   "nbconvert_exporter": "python",
   "pygments_lexer": "ipython3",
   "version": "3.8.11"
  }
 },
 "nbformat": 4,
 "nbformat_minor": 5
}
